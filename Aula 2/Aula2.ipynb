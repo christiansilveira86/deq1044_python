{
 "cells": [
  {
   "cell_type": "markdown",
   "metadata": {},
   "source": [
    "# Aula 2 - Estrutura condicional IF"
   ]
  },
  {
   "cell_type": "markdown",
   "metadata": {},
   "source": [
    "## IF\n",
    "A estrutura condicional _if_ é comum a todas linguagens de programação, ela nos possibilita fazer comparações entre dados e tomar decisões baseadas nos resultados obtidos.\n",
    "Para fazermos uso do _if_ é importante que saibamos os operadores lógicos que podemos utilizar:\n",
    "* Igualdade:        **a == b**\n",
    "* Desigualdade:     **a != b**\n",
    "* Menor que:        **a < b**\n",
    "* Menor ou igual a: **a <= b**\n",
    "* Maior que:        **a > b**\n",
    "* Maior ou igual a: **a >= b**\n",
    "\n",
    "Assim, podemos utilizar esses operadores lógicos em elementos comparativos no nosso código. Por exemplo:"
   ]
  },
  {
   "cell_type": "code",
   "execution_count": 1,
   "metadata": {},
   "outputs": [
    {
     "name": "stdout",
     "output_type": "stream",
     "text": [
      "a é maior que b\n"
     ]
    }
   ],
   "source": [
    "a = 500\n",
    "b = 100\n",
    "if a > b:\n",
    "    print(\"a é maior que b\")"
   ]
  },
  {
   "cell_type": "markdown",
   "metadata": {},
   "source": [
    "O que foi feito no código anterior?\n",
    "Primeiramente, nas linhas 1 e 2, atribuímos valores para as variáveis \"a\" e \"b\" (brinque com elas, modifique seus valores e teste o condicional if com isso).\n",
    "Na linha 3 iniciamos com o **if** seguido do teste que desejamos fazer, assim, a linha 3 faz uma pergunta: a variável a é maior que a variável b? Se sim, o programa executa o que está na linha 4; se não, a linha 4 nem é executada.\n",
    "Além disso, note que a linha 3 termina com \":\". A estrutura condicional **if** precisa terminar com :, por padrão.\n",
    "Também, na linha 4, podemos notar que iniciamos ela à partir do quinto espaço depois do início da linha (um TAB tem 4 espaços). À isso chamamos de identação, e **na linguagem Python a identação é especialmente importante**, pois é ela que determina o fluxo do programa, e o que se encontra dentro de um condicional ou loop (isso vai ficar mais claro e intuitivo ao longo das aulas). Assim, como é a própria identação que determina o início e fim de um condicional ou loop, **não é preciso o uso do comando *end***.\n",
    "\n",
    "## ELSE\n",
    "\n",
    "No exemplo anterior, temos duas possibilidades: ou a é maior que b, ou b é maior que a (desconsideremos o caso de que a pode ser igual a b, por enquanto). No entanto, executamos apenas o teste para saber se a é maior que b (a > b). Colocando assim, fica claro que se a é maior que b, o comando da linha 4 será executado, se não, nada será feito. Mas e se eu quiser fazer com que outra ação seja feita ao falhar o teste *a > b*, como posso fazer?\n",
    "A maneira mais simples para atender a esse caso é utilizando o condicional **else**. Veja o exemplo a seguir."
   ]
  },
  {
   "cell_type": "code",
   "execution_count": 2,
   "metadata": {},
   "outputs": [
    {
     "name": "stdout",
     "output_type": "stream",
     "text": [
      "a é menor que b\n"
     ]
    }
   ],
   "source": [
    "a = 50\n",
    "b = 100\n",
    "if a > b:\n",
    "    print(\"a é maior que b\")\n",
    "else:\n",
    "    print(\"a é menor que b\")"
   ]
  },
  {
   "cell_type": "markdown",
   "metadata": {},
   "source": [
    "Assim, **sempre** que a primeira condição (IF) não for atendida, a ação **else** será executada.\n",
    "Note que, da mesma maneira que utilizamos a identação para **if**, também utilizamos para **else**."
   ]
  },
  {
   "cell_type": "markdown",
   "metadata": {},
   "source": [
    "## ELSE IF\n",
    "\n",
    "Utilizando **if** e **else** podemos fazer apenas 2 tipos de teste: _se sim_ ou _se não_.\n",
    "Em inúmeros casos, no entanto, o que acontece é que precisamos realizar mais testes. No exemplo anterior, mesmo sendo tão simples, identificamos 3 possíveis resultados:\n",
    "* ou a é maior que b\n",
    "* ou a é menor que b\n",
    "* ou a é igual a b\n",
    "\n",
    "Assim, podemos lançar mão do uso do comando **elif**, que nos permite inserir um ilimitado número de outros testes dentro de uma estrutura **if**.\n",
    "Utilizemos o mesmo exemplo anterior e façamos os 3 testes citados acima:"
   ]
  },
  {
   "cell_type": "code",
   "execution_count": 3,
   "metadata": {},
   "outputs": [
    {
     "name": "stdout",
     "output_type": "stream",
     "text": [
      "a é menor que b\n"
     ]
    }
   ],
   "source": [
    "a = 10\n",
    "b = 100\n",
    "if a > b:\n",
    "    print(\"a é maior que b\")\n",
    "elif a == b:\n",
    "    print(\"a é igual a b\")\n",
    "else:\n",
    "    print(\"a é menor que b\")"
   ]
  },
  {
   "cell_type": "markdown",
   "metadata": {},
   "source": [
    "Assim, temos 3 testes acontecendo dentro da estrutura if (linhas 3 à 8). <br>\n",
    "Modifique os valores de a e b e perceba o que acontece.\n",
    "<br> <br>\n",
    "Existe ainda uma maneira de realizar estes testes em apenas uma linha. <br>\n",
    "A escolha do formato é pessoal. O importante é que o código seja \"agradável aos olhos\" no momento de ser lido. <br>\n",
    "Vejamos agora os exemplos anteriores feitos com a estrutura if em apenas uma linha."
   ]
  },
  {
   "cell_type": "code",
   "execution_count": 4,
   "metadata": {},
   "outputs": [
    {
     "name": "stdout",
     "output_type": "stream",
     "text": [
      "a é maior que b\n"
     ]
    }
   ],
   "source": [
    "a = 500\n",
    "b = 100\n",
    "if a > b: print(\"a é maior que b\")"
   ]
  },
  {
   "cell_type": "code",
   "execution_count": 5,
   "metadata": {},
   "outputs": [
    {
     "name": "stdout",
     "output_type": "stream",
     "text": [
      "b é maior que a\n"
     ]
    }
   ],
   "source": [
    "a = 50\n",
    "b = 100\n",
    "print(\"a é maior que b\") if a > b else print(\"b é maior que a\")"
   ]
  },
  {
   "cell_type": "code",
   "execution_count": 6,
   "metadata": {},
   "outputs": [
    {
     "name": "stdout",
     "output_type": "stream",
     "text": [
      "a é igual a b\n"
     ]
    }
   ],
   "source": [
    "a = 100\n",
    "b = 100\n",
    "print(\"a é maior que b\") if a > b else print (\"a é igual a b\") if a == b else print(\"b é maior que a\")"
   ]
  },
  {
   "cell_type": "markdown",
   "metadata": {},
   "source": [
    "Até aqui aprendemos diversas maneira diferentes de utilizar a estrutura if e seus elementos.\n",
    "Para fixarmos bem a maneira de utilizar essas estruturas, façamos alguns exercícios.\n",
    "\n",
    "## Exercícios\n",
    "1. Queremos obter o volume de um gás a 500 atm e 293 K através da equação dos gases ideais e através de van der Waals.\n",
    "Para gases ideais, o fator de compressibilidade é sempre 1, e para van der Waals, temos o fator de compressibilidade como uma função da temperatura e da pressão, conforme a figura.\n",
    "\n",
    "![](img/Fator_z.jpg)\n",
    "\n",
    "Sendo a equação da compressibilidade dada por:\n",
    "$ z=PV/RT $ <br>\n",
    "Encontre os volumes molares admitindo gases ideais e não-ideais, faça o teste para ver qual volume é maior e imprima na tela qual dos dois é maior."
   ]
  },
  {
   "cell_type": "code",
   "execution_count": 7,
   "metadata": {},
   "outputs": [],
   "source": [
    "# insira seu código\n"
   ]
  },
  {
   "cell_type": "markdown",
   "metadata": {},
   "source": [
    "2. Você possui 3 parâmetros x, y e z e uma função f. Escreva um programa que realize as seguintes operações:\n",
    "* Se $x>y, f = x^2$\n",
    "* Se $x>z, f = 2*x*z$\n",
    "* Se $y>x, f = y^3-2*x$\n",
    "* Se $z>x, f = z^2-x$ <br>\n",
    "Caso duas condições sejam satisfeitas, $f$ é o somatório das condições satisfeitas."
   ]
  },
  {
   "cell_type": "code",
   "execution_count": 8,
   "metadata": {},
   "outputs": [],
   "source": [
    "# insira seu código\n"
   ]
  },
  {
   "cell_type": "markdown",
   "metadata": {},
   "source": [
    "3. Escreva um código que receba os valores dos parâmetros a, b e c de um polinômio de segundo grau ($ax^2+bx+c=0$) e resolva Bhaskara para encontrar as raízes da função. O código deve testar se há apenas uma raiz (duas raízes iguais), se as raízes são iguais e de sinais opostos ou ainda se são apenas diferentes."
   ]
  },
  {
   "cell_type": "code",
   "execution_count": 9,
   "metadata": {},
   "outputs": [],
   "source": [
    "# insira seu código\n"
   ]
  }
 ],
 "metadata": {
  "kernelspec": {
   "display_name": "Python 3",
   "language": "python",
   "name": "python3"
  },
  "language_info": {
   "codemirror_mode": {
    "name": "ipython",
    "version": 3
   },
   "file_extension": ".py",
   "mimetype": "text/x-python",
   "name": "python",
   "nbconvert_exporter": "python",
   "pygments_lexer": "ipython3",
   "version": "3.7.6"
  }
 },
 "nbformat": 4,
 "nbformat_minor": 4
}
