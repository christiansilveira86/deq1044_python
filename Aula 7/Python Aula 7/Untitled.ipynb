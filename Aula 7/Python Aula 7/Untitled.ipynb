{
 "cells": [
  {
   "cell_type": "markdown",
   "metadata": {},
   "source": [
    "# AULA 7 - MAIS FUNÇÕES\n",
    "\n",
    "**Exemplo 1** <br>\n",
    "Considere a seguinte função: $f(x) = x^2 + 3*x - 2$ <br>\n",
    "Vamos encontrar as raízes da função utilizandos as funções: <br>\n",
    "a) _bisect_ <br>\n",
    "b) _newton_ <br>\n",
    "c) _fsolve_ <br>"
   ]
  },
  {
   "cell_type": "code",
   "execution_count": null,
   "metadata": {},
   "outputs": [],
   "source": []
  },
  {
   "cell_type": "code",
   "execution_count": null,
   "metadata": {},
   "outputs": [],
   "source": []
  },
  {
   "cell_type": "code",
   "execution_count": null,
   "metadata": {},
   "outputs": [],
   "source": []
  },
  {
   "cell_type": "markdown",
   "metadata": {},
   "source": [
    "**Exemplo 2** <br>\n",
    "Considere uma mistura líquida contendo 50% de pentano (1), 30% de n-hexano (2) e 20% de ciclohexano (3) (em base molar). <br>\n",
    "Para separar o pentano, um tanque flash operando a 5 bar é utilizado. <br>\n",
    "a) Qual a temperatura de bolha do sistema? <br>\n",
    "b) Qual a composição nesta temperatura? <br>\n",
    "Dados: <br>\n",
    "Constantes de Antoine: <br>\n",
    "A = [3.97786 4.00139  3.93002] <br>\n",
    "B = [1064.84 1170.875 1182.774] <br>\n",
    "C = [-41.136 -48.833 -52.532] <br>\n",
    "<br>"
   ]
  },
  {
   "cell_type": "code",
   "execution_count": null,
   "metadata": {},
   "outputs": [],
   "source": []
  },
  {
   "cell_type": "markdown",
   "metadata": {},
   "source": [
    "**Exemplo 3** <br>\n",
    "Um experimento para medir a taxa de crescimento de certos microrganismos demanda um ambiente com ar úmido enriquecido em oxigênio. Para isso, três correntes de entrada são alimentadas a uma câmara de evaporação para produzir uma corrente de saída com a composição desejada. <br>\n",
    "A taxa de alimentação de água é de $20 \\ cm^3/min$. <br>\n",
    "A composição aproximada do ar é de 21% $O_2$ e 79% $N_2$. <br>\n",
    "Oxigênio puro, com uma taxa de alimentação igual a um quinto da alimentação na corrente B é alimentado em A. <br>\n",
    "O gás de saída deve conter 1.5% molar de água. <br>\n",
    "Com base nos dados e na figura abaixo, calcule as variáveis $\\dot{n}_1$, $\\dot{n}_2$, $\\dot{n}_3$ e $y$. <br>\n",
    "<img src=\"oxywater.png\">\n"
   ]
  },
  {
   "cell_type": "code",
   "execution_count": null,
   "metadata": {},
   "outputs": [],
   "source": []
  },
  {
   "cell_type": "markdown",
   "metadata": {},
   "source": [
    "**Exemplo 4** <br>\n",
    "Em diversos problemas de Engenharia Química, iremos necessitar fazer ajustes de parâmetros para descrever dados. <br>\n",
    "Suponhamos que obtivemos os seguintes dados em um experimento de reação em batelada de primeira ordem:\n",
    "<br>"
   ]
  },
  {
   "cell_type": "markdown",
   "metadata": {},
   "source": [
    "| Tempo [min] | 0 | 1 | 2 | 3 | 4 | 5 |\n",
    "| --- | --- | --- | --- | --- | --- | --- | \n",
    "| $C_A$ [$kg/mol$] | 8.47 | 5.00 | 2.95 | 1.82 | 1.05 | 0.71| <br>\n",
    "<br>"
   ]
  },
  {
   "cell_type": "markdown",
   "metadata": {},
   "source": [
    "Sendo o modelo fenomenológico representado por $ln ( {C_A} ) = ln ( {C_{A0}} ) + kt$ <br>\n",
    "O modelo acima pode ser reescrito como $y = c_0 \\ t + c_1$, assim podemos utilizar a função de mínimos quadrados do módulo de Álgebra Linear do pacote SciPy para ajustar os parâmetros $c_0$ e $c_1$ aos dados experimentais. <br>\n",
    "Além disso, iremos ajustar os dados a um polinômio de 2$^a$ ordem para comparar os resultados. <br>"
   ]
  },
  {
   "cell_type": "code",
   "execution_count": null,
   "metadata": {},
   "outputs": [],
   "source": []
  },
  {
   "cell_type": "code",
   "execution_count": null,
   "metadata": {},
   "outputs": [],
   "source": []
  }
 ],
 "metadata": {
  "kernelspec": {
   "display_name": "Python 3",
   "language": "python",
   "name": "python3"
  },
  "language_info": {
   "codemirror_mode": {
    "name": "ipython",
    "version": 3
   },
   "file_extension": ".py",
   "mimetype": "text/x-python",
   "name": "python",
   "nbconvert_exporter": "python",
   "pygments_lexer": "ipython3",
   "version": "3.8.5"
  }
 },
 "nbformat": 4,
 "nbformat_minor": 4
}
