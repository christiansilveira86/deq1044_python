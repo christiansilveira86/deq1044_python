{
 "cells": [
  {
   "cell_type": "markdown",
   "metadata": {},
   "source": [
    "# Aula 9\n",
    "\n"
   ]
  },
  {
   "cell_type": "markdown",
   "metadata": {},
   "source": [
    "**Sistemas de equações diferenciais ordinárias** <br>\n",
    "<br>\n",
    "**Exemplo 1** <br>\n",
    "Em inúmeros problemas de engenharia química, nos deparamos com sistemas de equações diferenciais ordinárias (EDOs). <br>\n",
    "Na aula de hoje iremos complementar o que vimos na aula passada através da resolução de sistemas de EDOs. <br>\n",
    "Iniciemos considerando um sistema simples de EDOs: <br>\n",
    "$\\frac {dy_1}{dx} =  0.45y_1$ <br>\n",
    "$\\frac {dy_2}{dx} = -0.5y_1y_2$ <br>\n",
    "$y_1(0) = 1$ <br>\n",
    "$y_2(0) = 100$ <br>\n",
    "$x = 0..10$"
   ]
  },
  {
   "cell_type": "code",
   "execution_count": 6,
   "metadata": {},
   "outputs": [
    {
     "data": {
      "text/plain": [
       "[<matplotlib.lines.Line2D at 0x2c296171b20>,\n",
       " <matplotlib.lines.Line2D at 0x2c296171be0>]"
      ]
     },
     "execution_count": 6,
     "metadata": {},
     "output_type": "execute_result"
    },
    {
     "data": {
      "image/png": "[encoded data removed]",
      "text/plain": [
       "<Figure size 432x288 with 1 Axes>"
      ]
     },
     "metadata": {
      "needs_background": "light"
     },
     "output_type": "display_data"
    }
   ],
   "source": [
    "import numpy as np\n",
    "import matplotlib.pyplot as plt\n",
    "from scipy.integrate import odeint\n",
    "# Definição da função a ser integrada\n",
    "def func1(y,x):\n",
    "    dy1dx = 0.45*y[0]\n",
    "    dy2dx = -0.5*y[0]*y[1]\n",
    "    return [dy1dx, dy2dx]\n",
    "\n",
    "y0 = np.array([1, 100])\n",
    "x = np.arange(0,10.01,0.01)\n",
    "# odeint(fun, cond_inic, var_indep)\n",
    "y = odeint(func1, y0, x)\n",
    "\n",
    "plt.plot(x,y)"
   ]
  },
  {
   "cell_type": "markdown",
   "metadata": {},
   "source": [
    "**Exemplo 2** <br>\n",
    "Equações do tipo Lotka-Volterra, também conhecidas como equações de presa-predador, são equações diferenciais não-lineares de primeira ordem. Essas equações são da forma: <br>\n",
    "$\\frac{dx}{dt} = a_1x - a_2xy$ <br>\n",
    "$\\frac{dy}{dt} = a_3xy - a_4y$ <br>\n",
    "Resolvamos o sistema de EDOs acima com os seguintes parâmetros e condições iniciais: <br>\n",
    "$a_1 = 1.1$ <br>\n",
    "$a_2 = 0.4$ <br>\n",
    "$a_3 = 0.1$ <br>\n",
    "$a_4 = 0.4$ <br>\n",
    "$x(0) = 10$ <br>\n",
    "$y(0) = 10$ <br>"
   ]
  },
  {
   "cell_type": "code",
   "execution_count": null,
   "metadata": {},
   "outputs": [],
   "source": []
  },
  {
   "cell_type": "markdown",
   "metadata": {},
   "source": [
    "**Exemplo 3** <br>\n",
    "Quando tratamos de uma reação multicomponentes, podemos, em alguns casos, obter reações oscilatórias, como é o caso do exemplo a seguir, retirado dos exercícios do capítulo 8 do livro de reações do Fogler. <br>\n",
    "O exemplo trata de uma reação do tipo Belousov-Zhabotinsky (BZ). Maiores informações sobre as hipóteses assumidas e uma explicação sobre os balanços do problema podem ser encontrados em http://www.umich.edu/~elements/fogler&gurmen/html/web_mod/oscil/mod.htm. <br>\n",
    "Basicamente, temos um reator em batelada com o seguinte sistema de reações: <br>\n",
    "<br>\n",
    "<img src=\"sys_oscillatory_react.png\"> <br>\n",
    "<br>\n",
    "Em se tratando de uma reação em batelada, temos as seguintes equações do modelo: <br>\n",
    "$\\frac {dC_A}{dt} = -k_1 C_A$ <br>\n",
    "$\\frac {dC_B}{dt} = k_1 C_A - k_2 C_B - k_3 C_B C_C^2$ <br>\n",
    "$\\frac {dC_C}{dt} = k_2 C_B + k_3 C_B C_C^2 - k_4 C_C$ <br>\n",
    "$\\frac {dC_D}{dt} = k_4 C_C$ <br>\n",
    "As condições iniciais são: <br>\n",
    "$C_A(0) = 0.01$ <br>\n",
    "$C_B(0) = 2e-5$ <br>\n",
    "$C_C(0) = 1e-5$ <br>\n",
    "$C_D(0) = 0.00$ <br>\n",
    "E os parâmetros: <br>\n",
    "$k_1 = 0.001 min^{-1}$ <br>\n",
    "$k_2 = 0.01 min^{-1}$ <br>\n",
    "$k_3 = 2.5 \\cdot 10^{9} \\frac{dm^{6}}{mol^2 min}$ <br>\n",
    "$k_4 = 1 min^{-1}$ <br>"
   ]
  },
  {
   "cell_type": "code",
   "execution_count": null,
   "metadata": {},
   "outputs": [],
   "source": []
  },
  {
   "cell_type": "markdown",
   "metadata": {},
   "source": [
    "**Exemplo 4** <br>\n",
    "Considere agora um tanque de armazenamento de água. <br>\n",
    "O tanque, que está com uma altura de líquido de $5 ft$ a $25 ^\\circ C$, recebe uma vazão de $5 \\frac{ft^3}{min}$ a $55 ^\\circ C$. <br>\n",
    "Encontre o perfil de altura de líquido no tanque e sua temperatura ao longo do tempo. <br>\n",
    "Dados: <br>\n",
    "$A = 5 ft^2$ <br>\n",
    "$F_{out} = k \\sqrt {h}$ <br>\n",
    "$k = 2.5 \\frac {ft^{2.5}}{min}$ <br>\n",
    "Assim, realizando os balanços de massa e energia, obtemos: <br>\n",
    "$\\frac{dh}{dt} = \\frac{F_{in}-F_{out}}{A}$ <br>\n",
    "$\\frac{dT}{dt} = \\frac{F_{in}}{Ah} (T_{in}-T)$\n"
   ]
  },
  {
   "cell_type": "code",
   "execution_count": null,
   "metadata": {},
   "outputs": [],
   "source": []
  }
 ],
 "metadata": {
  "kernelspec": {
   "display_name": "Python 3",
   "language": "python",
   "name": "python3"
  },
  "language_info": {
   "codemirror_mode": {
    "name": "ipython",
    "version": 3
   },
   "file_extension": ".py",
   "mimetype": "text/x-python",
   "name": "python",
   "nbconvert_exporter": "python",
   "pygments_lexer": "ipython3",
   "version": "3.8.5"
  }
 },
 "nbformat": 4,
 "nbformat_minor": 4
}
