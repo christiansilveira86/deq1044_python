{
 "cells": [
  {
   "cell_type": "markdown",
   "metadata": {},
   "source": [
    "# VETORES E MATRIZES\n",
    "\n",
    "Tendo em vista que a maioria dos problemas de Engenharia Química envolvem sistemas de equações algébricas e de equações diferenciais, e que para resolver tais problemas se faz necessário o uso de técnicas numéricas que utilizam vetores e matrizes, iremos agora começar a inserir tais elementos no uso computacional.\n",
    "\n",
    "A primeira coisa que devemos perceber para trabalhar com vetores e matrizes em Python é que toda a biblioteca numérica deve ser importada. Já vimos anteriormente uma maneira de fazer a importação. Faremos isso no exemplo abaixo utilizando a função _array_ importada da biblioteca _NumPy_."
   ]
  },
  {
   "cell_type": "code",
   "execution_count": 11,
   "metadata": {},
   "outputs": [
    {
     "name": "stdout",
     "output_type": "stream",
     "text": [
      "[1 2 3]\n",
      "[[1]\n",
      " [2]\n",
      " [3]]\n"
     ]
    }
   ],
   "source": [
    "# Importar a biblioteca\n",
    "import numpy\n",
    "\n",
    "# Criar vetor linha\n",
    "v1 = numpy.array([1, 2, 3])\n",
    "\n",
    "# Criar vetor coluna\n",
    "v2 = numpy.array([[1],[2],[3]])\n",
    "\n",
    "print(v1)\n",
    "print(v2)"
   ]
  },
  {
   "cell_type": "markdown",
   "metadata": {},
   "source": [
    "Podemos perceber que o uso da função _array()_ exige entradas entre colchetes, sendo que cada colchete irá determinar uma linha.\n",
    "\n",
    "Uma outra maneira mais comum de se realizar a importação e uso da biblioteca é mostrada abaixo."
   ]
  },
  {
   "cell_type": "code",
   "execution_count": 2,
   "metadata": {},
   "outputs": [
    {
     "name": "stdout",
     "output_type": "stream",
     "text": [
      "Vetor 1\n",
      "[1 2 3]\n",
      "Vetor 2\n",
      "[[1]\n",
      " [2]\n",
      " [3]]\n",
      "Vetor 3\n",
      "[[2]\n",
      " [4]\n",
      " [6]]\n"
     ]
    }
   ],
   "source": [
    "# Importar a biblioteca\n",
    "import numpy as np\n",
    "\n",
    "# Criar vetor linha\n",
    "v1 = np.array([1, 2, 3])\n",
    "\n",
    "# Criar vetor coluna\n",
    "v2 = np.array([[1],[2],[3]])\n",
    "print(\"Vetor 1\")\n",
    "print(v1)\n",
    "print(\"Vetor 2\")\n",
    "print(v2)\n",
    "\n",
    "v3 = 2*v2\n",
    "print(\"Vetor 3\")\n",
    "print(v3)"
   ]
  },
  {
   "cell_type": "markdown",
   "metadata": {},
   "source": [
    "Note que o resultado é o mesmo que o anterior, o que difere é a maneira de importar e utilizar a biblioteca. <br>\n",
    "Utilizando o comando _as_ após o _import_ identifica a biblioteca como o argumento em seguida (no nosso caso, _np_).\n",
    "Assim, todo uso da biblioteca numpy, após essa definição, poderá ser feito utilizando apenas _np_. <br>\n",
    "Note, também, que o vetor 3 é a multiplicação do vetor v2 por um escalar. Isso tipo de operação (com um escalar) é permitido no ambiente natural do Python. Quando a operação envolver mais de um vetor ou matriz, teremos que fazer uso de funções específicas do NumPy, como veremos mais adiante. <br>\n",
    "<br>\n",
    "Para a definição de matrizes, seguiremos a mesma lógica dos vetores: cada colchete novo representará uma nova linha. Assim:"
   ]
  },
  {
   "cell_type": "code",
   "execution_count": 15,
   "metadata": {},
   "outputs": [
    {
     "name": "stdout",
     "output_type": "stream",
     "text": [
      "Matriz 1\n",
      "[[1 2]\n",
      " [3 4]]\n",
      "Matriz 2\n",
      "[[1 2]\n",
      " [3 4]\n",
      " [5 6]]\n"
     ]
    }
   ],
   "source": [
    "# Importar a biblioteca\n",
    "import numpy as np\n",
    "\n",
    "# Cria uma matriz 2x2\n",
    "m1 = np.array([[1, 2],[3, 4]])\n",
    "\n",
    "# Cria uma matrix 3x2\n",
    "m2 = np.array([[1, 2],[3, 4],[5, 6]])\n",
    "\n",
    "print(\"Matriz 1\")\n",
    "print(m1)\n",
    "print(\"Matriz 2\")\n",
    "print(m2)"
   ]
  },
  {
   "cell_type": "markdown",
   "metadata": {},
   "source": [
    "<br> Na verdade, a biblioteca NumPy possui uma estrutura para matrizes: <br>"
   ]
  },
  {
   "cell_type": "code",
   "execution_count": 17,
   "metadata": {},
   "outputs": [
    {
     "name": "stdout",
     "output_type": "stream",
     "text": [
      "[[1 2]\n",
      " [3 4]]\n"
     ]
    }
   ],
   "source": [
    "import numpy as np\n",
    "m3 = numpy.mat([[1, 2],[3, 4]])\n",
    "print(m3)"
   ]
  },
  {
   "cell_type": "markdown",
   "metadata": {},
   "source": [
    "Não utilizaremos esta estrutura por dois motivos principais: _arrays_ são as estruturas padrão do NumPy e a maioria das operações feitas com NumPy retornam valores em _arrays_. <br>\n",
    "<br>\n",
    "Para que possamos realizar operações matemáticas e testes lógicos com os vetores e matrizes, é importante que saibamos localizar e selecionar os elementos dessas estruturas. <br>\n",
    "Vejamos o exemplo abaixo:"
   ]
  },
  {
   "cell_type": "code",
   "execution_count": 18,
   "metadata": {},
   "outputs": [
    {
     "data": {
      "text/plain": [
       "3"
      ]
     },
     "execution_count": 18,
     "metadata": {},
     "output_type": "execute_result"
    }
   ],
   "source": [
    "import numpy as np\n",
    "v1 = np.array([1,2,3,4,5])\n",
    "v1[2]"
   ]
  },
  {
   "cell_type": "markdown",
   "metadata": {},
   "source": [
    "No código acima, importamos a biblioteca _numpy_ como _np_ e a utilizamos para criar o vetor _v1_. Depois, identificamos o elemento _v1[2]_, que na verdade é o terceiro elemento do vetor. <br>\n",
    "Eis aqui um ponto interessante e uma importantíssima diferença entre os conceitos de elementos em vetores e matrizes para MATLAB e Python.\n",
    "Podemos ver que em Python, o primeiro elemento de uma estrutura é o elemento $0$ (zero), enquanto em MATLAB o primeiro elemento seria $1$ (MATLAB não admite a inserção de um elemento na posição zero de uma estrutura). <br>\n",
    "<br>\n",
    "Para matrizes, a identificação do elemento é ligeiramente diferente, necessitando as posições da linha e da coluna do elementos, conforme exemplo abaixo:"
   ]
  },
  {
   "cell_type": "code",
   "execution_count": 22,
   "metadata": {},
   "outputs": [
    {
     "data": {
      "text/plain": [
       "2"
      ]
     },
     "execution_count": 22,
     "metadata": {},
     "output_type": "execute_result"
    }
   ],
   "source": [
    "import numpy as np\n",
    "m1 = np.array([[1, 2],[3, 4]])\n",
    "m1[0,1]"
   ]
  },
  {
   "cell_type": "markdown",
   "metadata": {},
   "source": [
    "Assim, linha 3 do código acima, identificamos o elemento localizado na primeira linha e segunda coluna da matriz _m1_. <br>\n",
    "<br>\n",
    "Existem ainda alguns métodos para selecionar alguns elementos de um vetor ou uma matriz. Abaixo veremos alguns deles.\n",
    "<br> <br>\n",
    "**Dois pontos (:)** <br> <br>\n",
    "O uso de apenas **:** significa que queremos todos os elementos do vetor ou da matriz. Conforme exemplo abaixo:"
   ]
  },
  {
   "cell_type": "code",
   "execution_count": 31,
   "metadata": {},
   "outputs": [
    {
     "data": {
      "text/plain": [
       "array([1, 2, 3, 4, 5, 6, 7, 8])"
      ]
     },
     "execution_count": 31,
     "metadata": {},
     "output_type": "execute_result"
    }
   ],
   "source": [
    "import numpy as np\n",
    "v1 = np.array([1,2,3,4,5,6,7,8])\n",
    "m1 = np.array([[1, 2, 3],[4, 5, 6], [7, 8 ,9]])\n",
    "\n",
    "v1[:]"
   ]
  },
  {
   "cell_type": "code",
   "execution_count": 32,
   "metadata": {},
   "outputs": [
    {
     "data": {
      "text/plain": [
       "array([[1, 2, 3],\n",
       "       [4, 5, 6],\n",
       "       [7, 8, 9]])"
      ]
     },
     "execution_count": 32,
     "metadata": {},
     "output_type": "execute_result"
    }
   ],
   "source": [
    "m1[:]"
   ]
  },
  {
   "cell_type": "markdown",
   "metadata": {},
   "source": [
    "<br> <br>\n",
    "Também podemos utilizar o **:** para selecionar todos os elementos antes ou depois de uma posição.\n",
    "Por exemplo, caso queiramos todos os elementos do vetor _v1_ depois do terceiro elemento: <br> <br>"
   ]
  },
  {
   "cell_type": "code",
   "execution_count": 33,
   "metadata": {},
   "outputs": [
    {
     "data": {
      "text/plain": [
       "array([4, 5, 6, 7, 8])"
      ]
     },
     "execution_count": 33,
     "metadata": {},
     "output_type": "execute_result"
    }
   ],
   "source": [
    "v1[3:]"
   ]
  },
  {
   "cell_type": "markdown",
   "metadata": {},
   "source": [
    "<br> <br>\n",
    "Caso queiramos os elementos do primeiro até o terceiro termo, podemos apenas mudar a posição do **:**, por exemplo:\n",
    "<br> <br>"
   ]
  },
  {
   "cell_type": "code",
   "execution_count": 35,
   "metadata": {},
   "outputs": [
    {
     "data": {
      "text/plain": [
       "array([1, 2, 3])"
      ]
     },
     "execution_count": 35,
     "metadata": {},
     "output_type": "execute_result"
    }
   ],
   "source": [
    "v1[:3]"
   ]
  },
  {
   "cell_type": "markdown",
   "metadata": {},
   "source": [
    "<br> <br>\n",
    "Da mesma maneira, podemos utilizar este conceito para matrizes. <br>\n",
    "Por exemplo, para selecionarmos apenas as 2 primeiras linhas e as duas primeiras colunas da matriz _m1_, podemos utilizar:\n",
    "<br> <br>"
   ]
  },
  {
   "cell_type": "code",
   "execution_count": 40,
   "metadata": {},
   "outputs": [
    {
     "data": {
      "text/plain": [
       "array([[1, 2],\n",
       "       [4, 5]])"
      ]
     },
     "execution_count": 40,
     "metadata": {},
     "output_type": "execute_result"
    }
   ],
   "source": [
    "m1[:2,:2]"
   ]
  },
  {
   "cell_type": "markdown",
   "metadata": {},
   "source": [
    "<br> <br>\n",
    "Do contrário, caso queiramos selecionar a segunda e terceira linha da 2 e terceira coluna:\n",
    "<br> <br>"
   ]
  },
  {
   "cell_type": "code",
   "execution_count": 41,
   "metadata": {},
   "outputs": [
    {
     "data": {
      "text/plain": [
       "array([[5, 6],\n",
       "       [8, 9]])"
      ]
     },
     "execution_count": 41,
     "metadata": {},
     "output_type": "execute_result"
    }
   ],
   "source": [
    "m1[1:,1:]"
   ]
  },
  {
   "cell_type": "markdown",
   "metadata": {},
   "source": [
    "<br> <br>\n",
    "Podemos, também, utilizar a notação com sinal negativo, o que irá indicar ao Python que a contagem dos elementos deverá iniciar do final. Por exemplo, selecionemos o último, o penúltimo e depois os três últimos elementos do vetor v1:\n",
    "<br> <br>"
   ]
  },
  {
   "cell_type": "code",
   "execution_count": 48,
   "metadata": {},
   "outputs": [
    {
     "name": "stdout",
     "output_type": "stream",
     "text": [
      "8\n",
      "7\n",
      "[6 7 8]\n"
     ]
    }
   ],
   "source": [
    "# O último\n",
    "print(v1[-1])\n",
    "# O penúltimo\n",
    "print(v1[-2])\n",
    "# Os três últimos\n",
    "print(v1[-3:])"
   ]
  },
  {
   "cell_type": "markdown",
   "metadata": {},
   "source": [
    "<br> <br>\n",
    "Igualmente, podemos utilizar esta notação para matrizes. <br>\n",
    "Vamos imprimir:\n",
    "- Última linha da matriz _m1_;\n",
    "- Última coluna da matriz _m1_;\n",
    "- Penúltima linha e dois últimos elementos da matriz _m1_.\n",
    "<br> <br>"
   ]
  },
  {
   "cell_type": "code",
   "execution_count": 56,
   "metadata": {},
   "outputs": [
    {
     "name": "stdout",
     "output_type": "stream",
     "text": [
      "[7 8 9]\n",
      "[3 6 9]\n",
      "[5 6]\n"
     ]
    }
   ],
   "source": [
    "# Última linha\n",
    "print(m1[-1,:])\n",
    "\n",
    "# Última coluna\n",
    "print(m1[:,-1])\n",
    "\n",
    "# Penúltima linha e dois últimos elementos\n",
    "print(m1[-2,-2:])"
   ]
  },
  {
   "cell_type": "markdown",
   "metadata": {},
   "source": [
    "<br> <br>\n",
    "Também, muitas vezes se faz importante conhecer as dimensões e outras propriedades dos elementos vetoriais ou matriciais. <br>\n",
    "Podemos fazer uso de três funções principais para isso: _shape_, _size_ e _ndim_. <br>\n",
    "- **_shape_**: fornece as dimensões de um elementos. Por exemplo, se uma matriz possui três linhas e três colunas, matriz.shape irá fornecer como resultado (3, 3); <br>\n",
    "- **_size_**: fornece o número total de elementos numa estrutura. Usando o exemplo anterior, a matriz.size forneceria o número 9 (3 linhas x 3 colunas); <br>\n",
    "- **_ndim_**: fornece o número de dimensões de uma estrutura. No exemplo anterior, temos 2 dimensões (colunas e linhas). <br> <br>\n",
    "\n",
    "Exemplos podem ser vistos abaixo:\n",
    "<br> <br>"
   ]
  },
  {
   "cell_type": "code",
   "execution_count": 82,
   "metadata": {},
   "outputs": [
    {
     "name": "stdout",
     "output_type": "stream",
     "text": [
      "O vetor v1 tem tamanho (6,)\n",
      "A matriz m1 tem tamanho (3, 4)\n",
      "O vetor v1 tem 6 elementos\n",
      "A matriz m1 tem 12 elementos\n",
      "O vetor v1 tem 1 dimensões\n",
      "A matriz m1 tem 2 dimensões\n"
     ]
    }
   ],
   "source": [
    "import numpy as np\n",
    "v1 = np.array(range(6))\n",
    "m1 = np.array([[1,2,3,4],[2,3,4,5],[3,4,5,6]])\n",
    "\n",
    "# shape\n",
    "shape_v1 = v1.shape\n",
    "shape_m1 = m1.shape\n",
    "print(\"O vetor v1 tem tamanho\",shape_v1)\n",
    "print(\"A matriz m1 tem tamanho\", shape_m1)\n",
    "\n",
    "# size\n",
    "numel_v1 = v1.size\n",
    "numel_m1 = m1.size\n",
    "print(\"O vetor v1 tem\",numel_v1,\"elementos\")\n",
    "print(\"A matriz m1 tem\",numel_m1,\"elementos\")\n",
    "\n",
    "# ndim\n",
    "ndim_v1 = v1.ndim\n",
    "ndim_m1 = m1.ndim\n",
    "print(\"O vetor v1 tem\",ndim_v1,\"dimensões\")\n",
    "print(\"A matriz m1 tem\",ndim_m1,\"dimensões\")"
   ]
  },
  {
   "attachments": {
    "image.png": {
     "image/png": "[encoded data removed]"
    }
   },
   "cell_type": "markdown",
   "metadata": {},
   "source": [
    "<br> <br> \n",
    "Agora temos as ferramentas básicas para lidarmos com matrizes e vetores.\n",
    "Mais funções e estruturas serão apresentadas ao longo do curso.\n",
    "\n",
    "Agora que podemos utilizar matrizes e vetores, vejamos o seguinte exemplo que apresenta um sistema de equações lineares: <br>\n",
    "Considere o circuito da figura abaixo:\n",
    "\n",
    "![image.png](attachment:image.png)\n",
    "\n",
    "Dados os valores de <br>\n",
    "               $V_1 = 10 V$, $V_2 = 5 V$, $R_1 = 1 \\Omega$, $R_2 = 2 \\Omega$, $R_3 = 3 \\Omega$, $R_4 = 4 \\Omega$ e $R_5 = 5 \\Omega$ <br> encontre a intensidade de cada corrente (A). <br>\n",
    "<br>\n",
    "Primeiramente, devemos montar as equações que regem o sistema. Assim: <br>\n",
    "$R_1 I_1 + R_4 I_1 - R_4 I_2 = V_1$ <br>\n",
    "$-R_4 I_1 + R_2 I_2 + R_4 I_2 + R_5 I_2 - R_5 I_3 = 0$ <br>\n",
    "$-R_5 I_2 + R_3 I_3 + R_5 I_3 = -V_2$ <br>\n",
    "<br>\n",
    "O sistema acima pode ser escrito como $RI=V$, onde: <br>\n",
    "$ R = \\begin{bmatrix} R_1+R_4 & -R_2 & 0 \\\\\n",
    "-R_4 & R_2 + R_4 + R_5 & -R_5 \\\\\n",
    "0 & -R_5 & R_3 + R_5\n",
    "\\end{bmatrix}$ <br>\n",
    "<br>\n",
    "$V = \\begin{bmatrix} V_1 \\\\ 0 \\\\ -V_2 \\end{bmatrix}$ <br>\n",
    "<br>\n",
    "E, portanto,\n",
    "$I = R^{-1} V$ <br>\n",
    "<br>\n",
    "Assim, podemos resolver o problema da seguinte forma:\n",
    "<br> <br>"
   ]
  },
  {
   "cell_type": "code",
   "execution_count": 90,
   "metadata": {},
   "outputs": [
    {
     "name": "stdout",
     "output_type": "stream",
     "text": [
      "[[2.8342246 ]\n",
      " [1.04278075]\n",
      " [0.02673797]]\n"
     ]
    }
   ],
   "source": [
    "import numpy as np\n",
    "# Primeiro, vamos definir o valor das variáveis\n",
    "V1 = 10\n",
    "V2 = 5\n",
    "R1 = 1\n",
    "R2 = 2\n",
    "R3 = 3\n",
    "R4 = 4\n",
    "R5 = 5\n",
    "# Agora definimos a matriz das resistências R\n",
    "R = np.array([[R1+R4, -R4, 0],[-R4, R2+R4+R5, -R5],[0, -R5, R3+R5]])\n",
    "# Agora definimos o vetor coluna das potências\n",
    "V = np.array([[V1],[0],[-V2]])\n",
    "\n",
    "# A intensidade de cada corrente:\n",
    "invR = np.linalg.inv(R)\n",
    "I = np.dot(invR,V)\n",
    "print(I)"
   ]
  },
  {
   "cell_type": "markdown",
   "metadata": {},
   "source": [
    "<br> <br>\n",
    "No exemplo anterior, utilizamos a função _array_ da biblioteca _numpy_ para construir uma matriz R (linha 11) e uma vetor V (linha 13). Depois disso, utilizamos duas novas funções: _linalg.inv()_ e _dot()_. <br>\n",
    "A primeira delas, _linalg.inv()_, utiliza o pacote de Álgebra Linear da biblioteca NumPy para realizar a inversão de uma matriz qualquer, neste caso, a matriz R é a matriz invertida (linha 16). <br>\n",
    "A segunda delas, _dot()_, faz a multiplicação de matrizes. Note que não utilizamos a multiplicação (\\*) comum, pois esta é uma operação específica para matrizes e vetores.\n",
    "<br>\n",
    "<br>\n",
    "Nas próximas aulas, iremos começar a utilizar vetores e matrizes dentro de estruturas de repetição, como _for_ e _while_. <br>\n",
    "Por exemplo, podemos ter um vetor $x$ variando de 0 a 5 e uma equação como função de $x$, por exemplo, $f(x) = x^2$. <br>\n",
    "Vamos calcular os valores de $f(x)$ para cada ponto do vetor $x$ e salvar $f(x)$ também como um vetor:"
   ]
  },
  {
   "cell_type": "code",
   "execution_count": 152,
   "metadata": {},
   "outputs": [
    {
     "name": "stdout",
     "output_type": "stream",
     "text": [
      "11\n",
      "[0.  0.5 1.  1.5 2.  2.5 3.  3.5 4.  4.5 5. ]\n",
      "[ 0.    0.25  1.    2.25  4.    6.25  9.   12.25 16.   20.25 25.  ]\n"
     ]
    },
    {
     "data": {
      "text/plain": [
       "[<matplotlib.lines.Line2D at 0x1face0f6d88>]"
      ]
     },
     "execution_count": 152,
     "metadata": {},
     "output_type": "execute_result"
    },
    {
     "data": {
      "image/png": "[encoded data removed]",
      "text/plain": [
       "<Figure size 432x288 with 1 Axes>"
      ]
     },
     "metadata": {
      "needs_background": "light"
     },
     "output_type": "display_data"
    }
   ],
   "source": [
    "import numpy as np\n",
    "import matplotlib.pyplot as plt\n",
    "x = np.arange(0,5.1,0.5,dtype=float)\n",
    "f = np.zeros(x.size)\n",
    "i = 0\n",
    "while i < x.size:\n",
    "    f[i] = x[i]**2\n",
    "    i += 1\n",
    "\n",
    "print(x.size)\n",
    "print(x)\n",
    "print(f)\n",
    "\n",
    "plt.plot(x,f)"
   ]
  },
  {
   "cell_type": "markdown",
   "metadata": {},
   "source": [
    "Algumas coisas que devemos perceber sobre o código acima: <br>\n",
    "- A biblioteca pyplot, que é parte integrante da biblioteca maior matplotlib, foi importada na linha 2 como plt. Essa biblioteca será a responsável pela criação de gráficos; <br>\n",
    "- A variável x, na linha 3, foi criada utilizando a função _arange_ da biblioteca NumPy. Essa função cria um vetor que vai de um valor a outro através de incrementos constante, ela leva como argumentos _np.arange(ponto inicial, ponto final, incremento, tipo de dados)_. É importante notar que caso um incremento não seja dado, a biblioteca automaticamente assume incrementos unitários. O espaço para o tipo de dado que está entrando é opcional. Note, também, que o ponto final foi definido como _5.1_ e não como _5.0_, pois assim o valor 5 será incluído no vetor; <br>\n",
    "- Na linha 4, criamos um vetor de zeros do tamanho do vetor $x$ (_np.zeros(x.size)_) para que $f(x)$ esteja definida e pronta para receber os valores de cada elemento, calculado dentro do laço de repetição _while_; <br>\n",
    "- Na linha 13, utilizamos a biblioteca matplotlib.pyplot através do nome _plt_ e utilizamos a função _plot_ desta biblioteca para plotar um gráfico com os dados recém calculados. <br>\n",
    "<br> \n",
    "\n",
    "A inicialização da variável _i_ é requerida, pois ela é a variável que está controlando o número de vezes que passaremos pelo laço de repetição (enquanto $i<10$).\n",
    "<br>\n",
    "<br>\n",
    "Nas próximas aulas, trabalharemos mais com laços de repetição e estruturas vetoriais e matriciais."
   ]
  },
  {
   "cell_type": "markdown",
   "metadata": {},
   "source": [
    "# Exercícios\n",
    "1. Um tanque flash opera a uma determinada condição de temperatura e pressão. Utilizando os dados abaixo e a abordagem matricial para sistemas de equações lineares (utilizado no exemplo anterior), calcule as frações molares nas fases líquida e vapor e imprima na tela os resultados. <br>\n",
    "Dados: <br>\n",
    "$F = 1,0$ <br>\n",
    "$L = 0,3$ <br>\n",
    "$z = \\begin{bmatrix} 0,45 & 0,35 & 0,20 \\end{bmatrix}$ <br>\n",
    "$k = \\begin{bmatrix} 1,77 & 0,88 & 0,45 \\end{bmatrix}$ <br>\n",
    "$F = L + V$ <br>\n",
    "$F z_i = L x_i + V y_i$ <br>\n",
    "$y_i = k_i x_i $ <br>"
   ]
  },
  {
   "cell_type": "code",
   "execution_count": 91,
   "metadata": {},
   "outputs": [],
   "source": [
    "# Insira seu código\n"
   ]
  },
  {
   "cell_type": "markdown",
   "metadata": {},
   "source": [
    "2. $x$ é um vetor que vai de 0 a 10. Calcule e apresente os resultados: <br>\n",
    "a) Um vetor cuja $f(x)=2*x^2-50$; <br>\n",
    "b) Um vetor cuja $f(x)=\\sqrt{x}$; <br>\n",
    "c)Um vetor cuja $f(x)$ seja:\n",
    "$\n",
    "\\Biggl\\lbrace\\begin{matrix}\n",
    "f(x) = 2*x^2, x <= 5 \\\\\n",
    "f(x) = 3*x^3, x > 5 \\\\\n",
    "\\end{matrix}\n",
    "$"
   ]
  },
  {
   "cell_type": "code",
   "execution_count": 154,
   "metadata": {},
   "outputs": [],
   "source": [
    "# Insira seu código\n"
   ]
  },
  {
   "cell_type": "markdown",
   "metadata": {},
   "source": [
    "3. Construa, utilizando laços de repetição, uma matriz quadrática 4x4 cujos elementos $i=j$ sejam iguais a 1 e $i \\neq j$ sejam iguais a 0.\n",
    "$$\n",
    "A = \n",
    "\\begin{bmatrix}\n",
    "a_{11} & a_{12} & a_{13} & a_{14} \\\\\n",
    "a_{21} & a_{22} & a_{23} & a_{24} \\\\\n",
    "a_{31} & a_{32} & a_{33} & a_{34} \\\\\n",
    "a_{41} & a_{42} & a_{43} & a_{44}\n",
    "\\end{bmatrix}\n",
    "$$"
   ]
  },
  {
   "cell_type": "code",
   "execution_count": 175,
   "metadata": {},
   "outputs": [],
   "source": [
    "# Insira seu código\n"
   ]
  }
 ],
 "metadata": {
  "kernelspec": {
   "display_name": "Python 3",
   "language": "python",
   "name": "python3"
  },
  "language_info": {
   "codemirror_mode": {
    "name": "ipython",
    "version": 3
   },
   "file_extension": ".py",
   "mimetype": "text/x-python",
   "name": "python",
   "nbconvert_exporter": "python",
   "pygments_lexer": "ipython3",
   "version": "3.7.6"
  }
 },
 "nbformat": 4,
 "nbformat_minor": 4
}
