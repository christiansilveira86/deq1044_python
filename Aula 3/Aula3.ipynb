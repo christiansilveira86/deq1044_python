{
 "cells": [
  {
   "cell_type": "markdown",
   "metadata": {},
   "source": [
    "# AND, OR e outras estruturas condicionais\n",
    "# +\n",
    "# LAÇOS DE REPETIÇÃO - FOR E WHILE"
   ]
  },
  {
   "cell_type": "markdown",
   "metadata": {},
   "source": [
    "Vimos na aula anterior a estrutura condicional _IF_ e suas variáveis com _ELIF_ e _ELSE_.\n",
    "Essas estruturas condicionais já nos permitem uma grande variedade de programação de códigos, no entanto, podemos incrementar os condicionais com estruturas como _AND_, _OR_, _IF_ dentro de _IF_ (também chamado _Nested IF_) e a atribuição _PASS_. Veremos mais detalhes sobre cada um deles a seguir.\n",
    "\n",
    "# AND\n",
    "\n",
    "O operador lógico _AND_ permite que façamos mais um comparativo dentro da estrutura _IF_.\n",
    "Caso queiramos saber se determinado valor corresponde a mais de um critério, podemos utilizar o recurso _AND_.\n",
    "\n",
    "Iniciemos utilizando o exemplo abaixo: <br>\n",
    "Você possui 3 parâmetros: a, b, c. Atribua valores para os 3 parâmetros e realize os testes para imprimir qual dos valores é o maior."
   ]
  },
  {
   "cell_type": "code",
   "execution_count": 4,
   "metadata": {},
   "outputs": [
    {
     "name": "stdout",
     "output_type": "stream",
     "text": [
      "c é maior\n"
     ]
    }
   ],
   "source": [
    "a = 10\n",
    "b = 20\n",
    "c = 30\n",
    "if a>b and a>c:\n",
    "    print(\"a é maior\")\n",
    "elif b>a and b>c:\n",
    "    print(\"b é maior\")\n",
    "elif c>a and c>b:\n",
    "    print(\"c é maior\")"
   ]
  },
  {
   "cell_type": "markdown",
   "metadata": {},
   "source": [
    "Dessa forma, a condição para que _a_ seja maior é que ele seja maior que _b_ **e** que _c_. Assim, a linha 5 só será executada caso AMBAS condições sejam satisfeitas. Caso _a_ seja maior que _b_ mas menor que _c_, a linha 5 não será executada. Sendo _a_ maior que _b_ e menor que _c_, já descarta a primeira condição da linha 6 (a<b). Assim, restam as condições da linha 8, que se atendidas irão permitir a execução da linha 9.\n",
    "\n",
    "Resolva você um exemplo agora:\n",
    "Você possui três trocadores de calor diferentes, conforme especificações abaixo. Encontre qual deles demanda menos energia para levar um tanque de 25°C a 50°C. <br>\n",
    "Trocador 1: U = 500 kcal/h.m^2.°C\n",
    "            A = 120 m^2\n",
    "            \n",
    "Trocador 2: U = 300 kcal/h.m^2.°C\n",
    "            A = 180 m^2\n",
    "            \n",
    "Trocador 3: U = 450 kcal/h.m^2.°C\n",
    "            A = 130 m^2"
   ]
  },
  {
   "cell_type": "code",
   "execution_count": 9,
   "metadata": {},
   "outputs": [],
   "source": [
    "# Insira seu código\n",
    "\n",
    "\n",
    "\n",
    "\n",
    "\n",
    "#(Resposta: Q1)"
   ]
  },
  {
   "cell_type": "markdown",
   "metadata": {},
   "source": [
    "# OR\n",
    "\n",
    "O operador lógico _OR_ é, também, utilizado para combinar diferentes condições para tomadas de decisão.<br> <br>\n",
    "Por exemplo, frações molares devem estar sempre entre 0 e 1. Chamaremos LI de limite inferior e LS de limite superior.\n",
    "Peça para o usuário inserir um valor para a variável x e faça o teste para saber se x está dentro dos limites permitidos para frações molares:"
   ]
  },
  {
   "cell_type": "code",
   "execution_count": 14,
   "metadata": {},
   "outputs": [
    {
     "name": "stdin",
     "output_type": "stream",
     "text": [
      "Insira o valor de x:  -0.5\n"
     ]
    },
    {
     "name": "stdout",
     "output_type": "stream",
     "text": [
      "x não é uma fração molar\n"
     ]
    }
   ],
   "source": [
    "LI = 0\n",
    "LS = 1\n",
    "x = float(input(\"Insira o valor de x: \"))\n",
    "\n",
    "if x<LI or x>LS:\n",
    "    print(\"x não é uma fração molar\")\n",
    "else:\n",
    "    print(\"x é uma fração molar\")"
   ]
  },
  {
   "cell_type": "markdown",
   "metadata": {},
   "source": [
    "Note que $x$ **não** será considerado uma representação de frações molares caso atenda à primeira **OU** à segunda condição.\n",
    "Assim, a linha 6 só será executada caso uma das duas condições seja satisfeita (ou $x$ é menor que 0 ou $x$ é maior que 1).\n",
    "\n",
    "Além disso, introduzimos dois novos comandos no código: _input_ e _float_.\n",
    "\n",
    "Falemos primeiro do _**input()**_. <br>\n",
    "Este comando serve para requisitar ao usuário a entrada de algum dado no programa. <br>\n",
    "No exemplo anterior pedimos para o usuário inserir um número, no entanto podemos pedir para que respostas sejam inseridas também. <br>\n",
    "O comando _input_, no entanto, recebe a informação como _string_. Como o que queremos fazer com a informação de entrada é o comparativo com outros números, temos que fazer a conversão de _string_ para _float_, e é exatamente isso que o comando _**float()**_ faz. <br>\n",
    "Sem a mudança para _float_, no entanto, podemos utilizar comparativos entre _strings_, como no exemplo abaixo:"
   ]
  },
  {
   "cell_type": "code",
   "execution_count": 2,
   "metadata": {},
   "outputs": [
    {
     "name": "stdout",
     "output_type": "stream",
     "text": [
      "Você está gostando das aulas até agora?\n",
      "Digite S para SIM ou C para Claro:\n"
     ]
    },
    {
     "name": "stdin",
     "output_type": "stream",
     "text": [
      " s\n"
     ]
    },
    {
     "name": "stdout",
     "output_type": "stream",
     "text": [
      "Tente de novo.\n"
     ]
    }
   ],
   "source": [
    "print(\"Você está gostando das aulas até agora?\")\n",
    "print(\"Digite S para SIM ou C para Claro:\")\n",
    "resp = input()\n",
    "if resp == \"S\":\n",
    "    print(\"Que ótimo!\")\n",
    "elif resp == \"C\":\n",
    "    print(\"Excelente! E vai melhorar.\")\n",
    "else:\n",
    "    print(\"Tente de novo.\")"
   ]
  },
  {
   "cell_type": "markdown",
   "metadata": {},
   "source": [
    "# IF dentro de IF (Neste If)\n",
    "\n",
    "Também é possível utilizar a estrutura condicional IF dentro de outra estrutura condicional IF. <br>\n",
    "Por exemplo, a equação de segundo grau $y=2x^2-4x-6$ possui apenas uma raiz no intervalo entre 0 e 10. <br>\n",
    "Assim, podemos escrever um código que nos dê uma dica sobre a localização do zero da função. Neste caso, se o valor de $y$ for maior que $0$, deve-se diminuir o valor de $x$, caso contrário, deve-se aumentá-lo. Isso pode ser comparado ao método da bisseção, ou ainda, tentativa e erro."
   ]
  },
  {
   "cell_type": "code",
   "execution_count": 58,
   "metadata": {},
   "outputs": [
    {
     "name": "stdout",
     "output_type": "stream",
     "text": [
      "Insira um valor para x: \n"
     ]
    },
    {
     "name": "stdin",
     "output_type": "stream",
     "text": [
      " 3\n"
     ]
    },
    {
     "name": "stdout",
     "output_type": "stream",
     "text": [
      "A raíz é 3.0\n"
     ]
    }
   ],
   "source": [
    "print(\"Insira um valor para x: \")\n",
    "x = float(input())\n",
    "y = 2*x**2 - 4*x - 6\n",
    "if x >= 0 or x<= 10:\n",
    "    if y > 0:\n",
    "        print(\"x deve ser menor\")\n",
    "    elif y < 0:\n",
    "        print(\"x deve ser maior\")\n",
    "    elif y == 0:\n",
    "        print(\"A raíz é\", x)"
   ]
  },
  {
   "cell_type": "markdown",
   "metadata": {},
   "source": [
    "É claro que esta é uma maneira pouco eficiente de se encontrar raízes de equações.\n",
    "Mais adiante, iremos aprender sobre operações matriciais e vetoriais em Python e como utilizá-las para resolver problemas da Engenharia Química.\n",
    "\n",
    "Além de _AND_, _OR_ e _nested IF_, temos também o comando _**PASS**_. <br>\n",
    "Este comando é utilizado quando se possui um condicional _IF_ mas, por algum motivo, não se possui nenhuma ação para essa condição.\n",
    "Por exemplo, se $a$ for maior que $b$, imprimir na tela; se $b$ for maior, fazer nada; e se forem iguais, imprimir na tela."
   ]
  },
  {
   "cell_type": "code",
   "execution_count": 15,
   "metadata": {},
   "outputs": [],
   "source": [
    "a = 5\n",
    "b = 10\n",
    "if a > b:\n",
    "    print(\"a maior que b\")\n",
    "elif b > a:\n",
    "    pass\n",
    "else:\n",
    "    print(\"a é igual a b\")"
   ]
  },
  {
   "cell_type": "markdown",
   "metadata": {},
   "source": [
    "# LOOPS - Laços de Repetição\n",
    "\n",
    "Grande parte das rotinas de cálculos para resolução de problemas de Engenharia Química necessita de recursos iterativos.<br>\n",
    "Métodos de resolução de equações algébricas não lineares e sistemas de equações não linerares e integradores numéricos são exemplos constantes do uso de recursos iterativos, ou laços de repetição.<br>\n",
    "O papel dos _loops_, ou laços de repetição, é realizar um comando, ou uma série de comandos, enquanto uma condição ou critério de parada for satisfeita, ou ainda até determinado ponto de parada previamente estabelecido. <br>\n",
    "Teremos dois tipos de loops: _while_ e _for_.\n",
    "\n",
    "# While\n",
    "\n",
    "O laço de repetição _while_ executará um comando (ou uma série deles) enquanto o critério estabelecido permitir. <br>\n",
    "Por exemplo:"
   ]
  },
  {
   "cell_type": "code",
   "execution_count": 2,
   "metadata": {},
   "outputs": [
    {
     "name": "stdout",
     "output_type": "stream",
     "text": [
      "0\n",
      "1\n",
      "2\n",
      "3\n",
      "4\n",
      "5\n",
      "6\n",
      "7\n",
      "8\n",
      "9\n",
      "10\n"
     ]
    }
   ],
   "source": [
    "# Exemplo\n",
    "i = 0\n",
    "while i <= 10:\n",
    "    print(i)\n",
    "    i = i+1"
   ]
  },
  {
   "cell_type": "markdown",
   "metadata": {},
   "source": [
    "**Explicação linha-a-linha**\n",
    "\n",
    "Na linha 2, atribuímos o valor de zero à variável _i_. Este procedimento é frequentemente utilizado para _inicializar_ o **contaor de iterações** do laço, ou seja, o número de vezes que o programa executa as ações dentro do laço.<br>\n",
    "<br>\n",
    "Na linha 3, iniciamos o laço _while_ com a condição de que os comandos sejam executados até que o valor de _i_ seja **igual ou menor** a 10.<br>\n",
    "<br>\n",
    "Na linha 4, utilizamos o comando para imprimir em tela o valor atual de _i_.<br>\n",
    "Na linha 5, o valor de _i_ é incrementado em uma unidade.<br>\n",
    "O laço é, então, repetido até que a condição estabelecida na linha 3 não seja mais atendida.<br>\n",
    "<br>\n",
    "A linguagem python ainda nos permite escrever o exemplo anterior da seguinte maneira:"
   ]
  },
  {
   "cell_type": "code",
   "execution_count": 4,
   "metadata": {},
   "outputs": [
    {
     "name": "stdout",
     "output_type": "stream",
     "text": [
      "0\n",
      "1\n",
      "2\n",
      "3\n",
      "4\n",
      "5\n",
      "6\n",
      "7\n",
      "8\n",
      "9\n",
      "10\n"
     ]
    }
   ],
   "source": [
    "# Exemplo\n",
    "i = 0\n",
    "while i <= 10:\n",
    "    print(i)\n",
    "    i += 1"
   ]
  },
  {
   "cell_type": "markdown",
   "metadata": {},
   "source": [
    "Note que, ao colocarmos o sinal de soma para antes da igualdade, a linguagem já entende que estamos somando o valor à própria variável.\n",
    "Da mesma maneira, podemos utilizar um contador derescente, conforme exemplo abaixo."
   ]
  },
  {
   "cell_type": "code",
   "execution_count": 5,
   "metadata": {},
   "outputs": [
    {
     "name": "stdout",
     "output_type": "stream",
     "text": [
      "10\n",
      "8\n",
      "6\n",
      "4\n",
      "2\n",
      "0\n"
     ]
    }
   ],
   "source": [
    "i = 10\n",
    "while i >= 0:\n",
    "    print(i)\n",
    "    i -= 2"
   ]
  },
  {
   "cell_type": "markdown",
   "metadata": {},
   "source": [
    "Note que a variável _i_, desta vez, inicou com o valor 10 (linha 1), mas decresceu de 2 em 2 unidades (linha 4) até que o critério do laço fosse satisfeito ($i >= 0$).\n",
    "<br> <br>\n",
    "Loops podem ser utilizados para realizar uma série de cálculos iterativamente. Por exemplo, suponha que você possua uma variável $x$ que varia de $0$ à $10$ e você quer saber o valor da função, por fins de simplicidade, $y=2x$ para cada valor de $x$"
   ]
  },
  {
   "cell_type": "code",
   "execution_count": 29,
   "metadata": {},
   "outputs": [
    {
     "name": "stdout",
     "output_type": "stream",
     "text": [
      "[0, 2, 4, 6, 8, 10, 12, 14, 16, 18, 20]\n"
     ]
    }
   ],
   "source": [
    "x = 0\n",
    "y = []\n",
    "while x<=10:\n",
    "    y.append(2*x)\n",
    "    x += 1\n",
    "print(y)"
   ]
  },
  {
   "cell_type": "markdown",
   "metadata": {},
   "source": [
    "<br>\n",
    "\n",
    "**Explicação linha-a-linha**\n",
    "\n",
    "Na linha 1, iniciamos a variável $x$ como $0$. <br>\n",
    "Na linha 2, iniciamos o vetor $y$ como um par de colchetes para sinalizar a inicialização de um vetor. <br>\n",
    "Na linha 3, estabelecemos o critério: os comandos serão executados enquanto $x$ for menor ou igual a $10$. <br>\n",
    "Na linha 4, utilizamos o comando _append_ para adicionar o elemento dentro dos parênteses na variável $y$. <br>\n",
    "Na linha 5, o contador é acrescido em uma unidade. <br>\n",
    "Por fim, na linha 6, utilizamos o comando _print_ para imprimir na tela os valores de $y$.<br>\n",
    "<br>\n",
    "<br>\n",
    "Ainda não aprendemos sobre vetores, tampouco sobre o comando _append_. <br>\n",
    "Não se preocupe com isso por enquanto, veremos mais tarde exemplos e conceitos sobre esses tópicos.\n",
    "<br>\n",
    "<br>\n",
    "**_break_** <br>\n",
    "O laço _while_ ainda possui a atribuição _break_, que é capaz de parar a execução do laço, mesmo que o critério do laço ainda seja atendido.\n",
    "Por exemplo, utilizando o primeiro exemplo, vamos parar o código quando $i = 5$."
   ]
  },
  {
   "cell_type": "code",
   "execution_count": 30,
   "metadata": {},
   "outputs": [
    {
     "name": "stdout",
     "output_type": "stream",
     "text": [
      "0\n",
      "1\n",
      "2\n",
      "3\n",
      "4\n",
      "5\n"
     ]
    }
   ],
   "source": [
    "i = 0\n",
    "while i <= 10:\n",
    "    print(i)\n",
    "    if i == 5:\n",
    "        break\n",
    "    i += 1"
   ]
  },
  {
   "cell_type": "markdown",
   "metadata": {},
   "source": [
    "É possível perceber que o código rodou até $i = 5$, mas quando essa condição foi satisfeita, o condicional _if_ da linha 4 foi acionado, o comando _break_ foi executado. Uma vez que o comando _break_ é encarregado de parar um laço, o programa sai do laço _while_ e é terminado pois não havia nenhum outro comando depois do laço. <br>\n",
    "<br>\n",
    "**_continue_** <br>\n",
    "O comando _continue_ pode ser utilizado para deixar de executar os comandos previstos no laço durante a iteração na qual a condição é satisfeita.<br>\n",
    "Por exemplo, utilizando o código anterior:"
   ]
  },
  {
   "cell_type": "code",
   "execution_count": 33,
   "metadata": {},
   "outputs": [
    {
     "name": "stdout",
     "output_type": "stream",
     "text": [
      "1\n",
      "2\n",
      "3\n",
      "4\n",
      "6\n",
      "7\n",
      "8\n",
      "9\n",
      "10\n"
     ]
    }
   ],
   "source": [
    "i = 0\n",
    "while i < 10:\n",
    "    i += 1\n",
    "    if i == 5:\n",
    "        continue\n",
    "    print(i)"
   ]
  },
  {
   "cell_type": "markdown",
   "metadata": {},
   "source": [
    "É possível perceber que o número $5$ não foi impresso na tela. Mas por quê? <br>\n",
    "Quando a linha 4 foi satisfeita ($i==5$), o comando _continue_ foi executado e o comando _print_, que era o próximo comando do loop _while_ a ser executado, não foi executado.\n",
    "<br>\n",
    "<br>\n",
    "Além disso, algumas alterações foram feitas no código, como mudar de lugar as linhas _i += 1_ e _print(i)_. Mas por quê? (vide exercício número 6).\n",
    "\n",
    "**else** <br>\n",
    "Por fim, o laço _while_ permite ainda o uso de um atributo _else_ em sua estrutura.\n",
    "O _else_ dentro de uma estrutura _while_ possui uma única função: executar o bloco de códigos apenas uma **única vez** quando o critério não for mais atendido.\n",
    "Por exemplo:"
   ]
  },
  {
   "cell_type": "code",
   "execution_count": 34,
   "metadata": {},
   "outputs": [
    {
     "name": "stdout",
     "output_type": "stream",
     "text": [
      "0\n",
      "1\n",
      "2\n",
      "3\n",
      "4\n",
      "5\n",
      "i é maior que 5\n"
     ]
    }
   ],
   "source": [
    "i = 0\n",
    "while i <= 5:\n",
    "    print(i)\n",
    "    i += 1\n",
    "else:\n",
    "    print(\"i é maior que 5\")"
   ]
  },
  {
   "cell_type": "markdown",
   "metadata": {},
   "source": [
    "O laço _while_ foi executado enquanto o critério era atendido (i menor ou igual a 5). Quando o critério deixou de ser atendido, o programa executou, uma única vez, o comando atribuído ao _else_.\n",
    "<br>\n",
    "<br>\n",
    "# For\n",
    "<br> <br>\n",
    "O loop _for_ serve, basicamente, para executar iterações sobre uma sequência (vetor, lista, tupla, dicionário...). <br>\n",
    "O laço _for_ funciona de maneira muito parecida com o laço _while_, porém naquele não necessitamos de um contador, uma vez que ele irá utilizar o número de elementos da lista como critério de parada. <br>\n",
    "Por exemplo:"
   ]
  },
  {
   "cell_type": "code",
   "execution_count": 37,
   "metadata": {},
   "outputs": [
    {
     "name": "stdout",
     "output_type": "stream",
     "text": [
      "0 0\n",
      "1 2\n",
      "2 4\n",
      "3 6\n",
      "4 8\n"
     ]
    }
   ],
   "source": [
    "i = [0, 1, 2, 3, 4]\n",
    "for x in i:\n",
    "    y = 2*x\n",
    "    print(x,y)"
   ]
  },
  {
   "cell_type": "markdown",
   "metadata": {},
   "source": [
    "No exemplo acima, na linha 1, definimos o vetor i (portanto, uma sequência), com elementos indo de 0 a 4. <br>\n",
    "A estrutura do _for_ é utilizada da seguinte maneira: _for_ **<variável da iteração>** _in_ **<sequência de elementos>** <br>\n",
    "Assim, na linha 2 informamos para o programa que para cada elemento _x_ na sequência _i_, o código do bloco será executado.<br>\n",
    "Na linha 3, calculamos um valor para y, sendo $y=2x$ e depois printamos na tela os valor de _x_ e _y_ da iteração atual. <br>\n",
    "<br>\n",
    "O código anterior ainda poderia ser escrito de uma outra maneira:"
   ]
  },
  {
   "cell_type": "code",
   "execution_count": 42,
   "metadata": {},
   "outputs": [
    {
     "name": "stdout",
     "output_type": "stream",
     "text": [
      "0 0\n",
      "1 2\n",
      "2 4\n",
      "3 6\n",
      "4 8\n"
     ]
    }
   ],
   "source": [
    "for x in range(5):\n",
    "    y = 2*x\n",
    "    print(x,y)"
   ]
  },
  {
   "cell_type": "markdown",
   "metadata": {},
   "source": [
    "A função _range(X)_ cria uma sequência de números com _X_ elementos, iniciando a contagem do $0$ (por padrão)."
   ]
  },
  {
   "cell_type": "code",
   "execution_count": 47,
   "metadata": {},
   "outputs": [
    {
     "name": "stdout",
     "output_type": "stream",
     "text": [
      "0\n",
      "1\n",
      "2\n",
      "3\n",
      "-\n",
      "4\n",
      "6\n",
      "8\n",
      "10\n"
     ]
    }
   ],
   "source": [
    "x=range(4)\n",
    "for i in x:\n",
    "    print(i)\n",
    "\n",
    "print(\"-\")\n",
    "    \n",
    "y = range(4,12,2)\n",
    "for j in y:\n",
    "    print(j)"
   ]
  },
  {
   "cell_type": "markdown",
   "metadata": {},
   "source": [
    "As funções _break_, _continue_ e _else_ funcionam exatamente da mesma maneira que no laço _while_.\n",
    "Tente adaptar os exemplos com _while_ para o uso do _for_."
   ]
  },
  {
   "cell_type": "code",
   "execution_count": null,
   "metadata": {},
   "outputs": [],
   "source": [
    "# espaço para testes\n"
   ]
  },
  {
   "cell_type": "markdown",
   "metadata": {},
   "source": [
    "# Exercícios\n",
    "\n",
    "1. Dado um número $x$, crie um programa que teste se esse número é negativo, positivo ou igual a zero utilizando apenas _IF_."
   ]
  },
  {
   "cell_type": "code",
   "execution_count": 16,
   "metadata": {},
   "outputs": [],
   "source": [
    "# Insira seu código\n"
   ]
  },
  {
   "cell_type": "markdown",
   "metadata": {},
   "source": [
    "2. Dado um número $x$, crie um programa que teste se esse número é negativo, positivo ou igual a zero utilizando IF, ELIF e ELSE."
   ]
  },
  {
   "cell_type": "code",
   "execution_count": 17,
   "metadata": {},
   "outputs": [],
   "source": [
    "# Insira seu código\n"
   ]
  },
  {
   "cell_type": "markdown",
   "metadata": {},
   "source": [
    "3. Escreva um código que peça para o usuário inserir um mês do ano e forneça como resposta o número de dias no mês."
   ]
  },
  {
   "cell_type": "code",
   "execution_count": 18,
   "metadata": {},
   "outputs": [],
   "source": [
    "# Insira seu código\n"
   ]
  },
  {
   "cell_type": "markdown",
   "metadata": {},
   "source": [
    "4. Dadas as duas funções abaixo, encontre o valor de $f_1$ e $f_2$ para diferentes valores de $x$ e teste se:\n",
    "* ambas são negativas;\n",
    "* ambas são positivas;\n",
    "* $f_1$ é positiva, mas $f_2$ é negativa;\n",
    "* $f_2$ é positiva, mas $f_1$ é negativa;\n",
    "* nenhuma das condições anteriores.\n",
    "\n",
    "$f_1 = x^2 - x - 10$ <br>\n",
    "$f_2 = 2x^2 -5x - 25$"
   ]
  },
  {
   "cell_type": "code",
   "execution_count": 19,
   "metadata": {},
   "outputs": [],
   "source": [
    "# Insira seu código\n"
   ]
  },
  {
   "cell_type": "markdown",
   "metadata": {},
   "source": [
    "5. Olavinho foi tomar um café em uma cafeteria da cidade. Sem saber bem o que comer ou beber, o atendente lhe apresenta três opções gerais: cafés, salgados ou doces. <br>\n",
    "Escreva um programa que ajude Olavinho a decidir o que comer. Assim:<br>\n",
    "* Se optar por café, as escolhas são: americano, carioca ou cappuccino. <br>\n",
    "     Independentemente da escolha, Olavinho ainda deve poder escolher entre com ou sem açúcar.\n",
    "* Se optar por salgados, as escolhas são: pastel, pão de queijo ou pizza. <br>\n",
    "     Independentemente da escolha, Olavinho deve ainda poder escolher se quer maionese, pimenta ou nada.<br>\n",
    "* Se optar por doces: torta de chocolate, sorvete ou brownie. Neste caso, não haverá outro nível de escolha.\n"
   ]
  },
  {
   "cell_type": "code",
   "execution_count": 1,
   "metadata": {},
   "outputs": [],
   "source": [
    "# Insira seu código\n"
   ]
  },
  {
   "cell_type": "markdown",
   "metadata": {},
   "source": [
    "6. Dado o vetor abaixo, calcule o valor de cada elemento elevado ao quadrado e imprima os resultados na tela. <br>\n",
    "a) Utilizando o laço _while_; <br>\n",
    "b) Utilizando o laço _for_. <br>\n",
    "$v=[0,1,2,3,4,5]$"
   ]
  },
  {
   "cell_type": "code",
   "execution_count": 53,
   "metadata": {},
   "outputs": [],
   "source": [
    "# Insira seu código\n"
   ]
  },
  {
   "cell_type": "markdown",
   "metadata": {},
   "source": [
    "7. Dada a seguinte equação, resolva e imprima os resultados na tela com <br>\n",
    "a) laço _while_; <br>\n",
    "b) laço _for_. <br>\n",
    "$$\n",
    "\\Biggl\\lbrace\\begin{matrix}\n",
    "y = 2*x^2, x <= 5 \\\\\n",
    "y = 3*x^3, x > 5 \\\\\n",
    "\\end{matrix}\n",
    "$$\n",
    "Dado que $x = [0, 1, 2, ..., 10]$."
   ]
  },
  {
   "cell_type": "code",
   "execution_count": 55,
   "metadata": {},
   "outputs": [],
   "source": [
    "# Insira seu código\n"
   ]
  },
  {
   "cell_type": "markdown",
   "metadata": {},
   "source": [
    "8. Uma esfera perfeita rola sobre uma superfície com atrito desprezível e sem aceleração. <br>\n",
    "Ela sai, no instante zero, da posição zero, a uma velocidade de 0,5 m/s. Utilizando o laço _while_:<br>\n",
    "a) Calcule a posição da esfera a cada segundo até o tempo de 10 segundos. <br>\n",
    "b) A superfície possui uma barreira a 7,5 metros. Em que tempo a esfera irá atingir a parede? Escreva um código que calcule a posição da esfera até ela atingir a parede e informe a que tempo ela atingiu a parede na tela."
   ]
  },
  {
   "cell_type": "code",
   "execution_count": 49,
   "metadata": {},
   "outputs": [],
   "source": [
    "# Insira seu código\n"
   ]
  },
  {
   "cell_type": "markdown",
   "metadata": {},
   "source": [
    "9. Repita o exercício anterior utilizando o laço _for_."
   ]
  },
  {
   "cell_type": "code",
   "execution_count": 50,
   "metadata": {},
   "outputs": [],
   "source": [
    "# Insira seu código\n"
   ]
  }
 ],
 "metadata": {
  "kernelspec": {
   "display_name": "Python 3",
   "language": "python",
   "name": "python3"
  },
  "language_info": {
   "codemirror_mode": {
    "name": "ipython",
    "version": 3
   },
   "file_extension": ".py",
   "mimetype": "text/x-python",
   "name": "python",
   "nbconvert_exporter": "python",
   "pygments_lexer": "ipython3",
   "version": "3.7.6"
  }
 },
 "nbformat": 4,
 "nbformat_minor": 4
}
