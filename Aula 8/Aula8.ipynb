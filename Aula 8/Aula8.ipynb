{
 "cells": [
  {
   "cell_type": "markdown",
   "metadata": {},
   "source": [
    "# AULA 8 <br>\n",
    "<br>\n",
    "Nas últimas aulas aprendemos: <br>\n",
    "- Como definir funções em um script <br>\n",
    "- Como chamar funções que retornem um valor resposta <br>\n",
    "- Como utilizar funções das bibliotecas disponíveis (como numpy e scipy) <br>\n",
    "- Como resolver sistemas de equações algébricas não-lineares através das funções do módulo SciPy (newton, fsolve, brent, bissect...) <br>\n",
    "- Como realizar regressões lineares <br>\n",
    "<br>\n",
    "Pode não parecer, mas já trilhamos um longo caminho na programação. <br>\n",
    "Nesta aula, aprenderemos como resolver Equações Diferenciais Ordinárias (EDOs) através do submódulo de integração do módulo SciPy. <br>\n",
    "EDOs e sistemas de EDOs aparecem em inúmeros problemas de engenharia química, como variações de concentração ao longo do tempo em reatores, variação de temperatura em trocadores de calor, variações de nível de fluidos em tanques, crescimento de microorganismos, enfim, uma enorme variedade de problemas da Engenharia Química é formada por resolução de EDOs. <br>\n",
    "Tendo isto em vista, comecemos com um exemplo ilustrativo. <br>\n",
    "<br>\n",
    "\n",
    "**Exemplo 1** <br>\n",
    "Considere a seguinte EDO: <br>\n",
    "$\\frac {dx}{dt} = a\\sqrt {x}$ <br>\n",
    "$a = 0.2$ <br>\n",
    "$x(0) = 1$<br>\n",
    "Pode-se perceber que se trata de um problema de valor inicial (PVI) de uma EDO de primeira ordem. <br>\n",
    "Assim, começamos o código importando as três bibliotecas que serão utilizadas: numpy, scipy e matplotlib. <br>\n",
    "Após, definimos a função que será integrada. Neste caso, uma função que contenha $\\frac {dx}{dt} = a\\sqrt {x}$. <br>\n",
    "\n",
    "A definição da função a ser integrada (neste caso, a função chamada _ode1_) necessita de dois argumentos: variável dependente e variável independete. <br> \n",
    "Dessa forma: _def nome_da_função(var_dependente, var_independente)_: <br>\n",
    "Depois de importadas as bibliotecas e definida a função que será integrada, fazemos a chamada da integração através da função _odeint_, do módulo _scipy.integrate_. A sintaxe simplificada da chamada fica na forma: _var_dependente = odeint(função_a_ser_integrada, condição_inicial, var_independente)_ <br>"
   ]
  },
  {
   "cell_type": "code",
   "execution_count": null,
   "metadata": {},
   "outputs": [],
   "source": [
    "import numpy as np\n",
    "from scipy.integrate import odeint\n",
    "import matplotlib.pyplot as plt\n",
    "# Função da EDO\n",
    "def ode1(x,t):\n",
    "    a = 0.2             # Parâmetro\n",
    "    dxdt = a*np.sqrt(x) # EDO\n",
    "    return dxdt         # Retorna dxdt\n",
    "# Chamada da função\n",
    "x0 = 1                  # Condição inicial \n",
    "t = np.arange(0,50)     # Tempo de integração\n",
    "x = odeint(ode1, x0, t) # Chamada para integração com a função odeint\n",
    "plt.plot(t,x)           # Plota os resultados da integração\n",
    "plt.grid()              # Adiciona linhas de grade ao gráfico"
   ]
  },
  {
   "cell_type": "markdown",
   "metadata": {},
   "source": [
    "Note que a função _odeint_ integrou a EDO, programada na função _ode1_, utilizando a condição inicial $x(0)=1$, do tempo 0 ao tempo 49 (não definimos unidades para _t_). A solução da integração fica gravada na variável _x_ (linha 12) e é plotada na linha 13. <br>\n",
    "Alternativamente, podemos utilizar a variável $a$ fora da função da EDO. Por exemplo, vejamos como a EDO anterior pode ser integrada utilizando um valor de $a$ inserido pelo usuário: <br>"
   ]
  },
  {
   "cell_type": "code",
   "execution_count": null,
   "metadata": {},
   "outputs": [],
   "source": [
    "import numpy as np\n",
    "from scipy.integrate import odeint\n",
    "import matplotlib.pyplot as plt\n",
    "# Função da EDO\n",
    "def ode1(x,t):\n",
    "    dxdt = a*np.sqrt(x) # EDO\n",
    "    return dxdt         # Retorna dxdt\n",
    "# Entrada do usuário\n",
    "a = float(input('Insira o valor de a:'))  # Parâmetro\n",
    "# Chamada da função\n",
    "x0 = 1                  # Condição inicial \n",
    "t = np.arange(0,50)     # Tempo de integração\n",
    "x = odeint(ode1, x0, t) # Chamada para integração com a função odeint\n",
    "plt.plot(t,x)           # Plota os resultados da integração\n",
    "plt.grid()              # Adiciona linhas de grade ao gráfico"
   ]
  },
  {
   "cell_type": "markdown",
   "metadata": {},
   "source": [
    "**Exemplo 2** <br>\n",
    "Vejamos agora um exemplo simplificado de um reator em batelada. <br>\n",
    "A reação é de primeira ordem e acontece isotermicamente: $A \\rightarrow B$ <br>\n",
    "Assim: $\\frac {dC_A}{dt} = r_A$ <br>\n",
    "Onde $r_A = -kC_A$ <br>\n",
    "$k = 0.025 s^-1$ <br>"
   ]
  },
  {
   "cell_type": "code",
   "execution_count": null,
   "metadata": {},
   "outputs": [],
   "source": [
    "import numpy as np\n",
    "import matplotlib.pyplot as plt\n",
    "from scipy.integrate import odeint\n",
    "\n",
    "def batch(Ca,t):\n",
    "    k = 0.025\n",
    "    dCadt = -k*Ca\n",
    "    return dCadt\n",
    "\n",
    "Ca0 = 1\n",
    "t = np.arange(0,251)\n",
    "Ca = odeint(batch,Ca0,t)\n",
    "plt.plot(t,Ca)\n",
    "plt.grid()"
   ]
  },
  {
   "cell_type": "markdown",
   "metadata": {},
   "source": [
    "Da mesma maneira que no exemplo anterior, seguimos os seguintes passos: <br>\n",
    "1. Importação das biblitoecas necessárias <br>\n",
    "2. Definição da função que contém a EDO <br>\n",
    "3. Definição da condição inicial e tempo de integração <br>\n",
    "4. Integração (chamada da EDO com a função _odeint_) <br>\n",
    "5. Apresentação dos resultados (neste caso, em gráfico) <br>\n",
    "<br>\n",
    "<br>\n",
    "**Exemplo 3** <br>\n",
    "\n",
    "Considere agora um tanque cilíndrico de armazenamento com uma vazão de entrada de $5 \\frac{ft^3}{min}$ e uma altura inicial de $5 ft$. A vazão de saída é dada por $k \\sqrt{h}$, onde $k$ é a constante da válvula igual a $2,5 ft^{2,5}/min$. A área da seção transversal do tanque é igual a $5 ft^2$. <br>\n",
    "Resolva a EDO, plote um gráfico com a variação de altura de fluido no tanque ao longo do tempo e salve os resultados em um arquivo _.txt_. <br>\n",
    "<br>\n",
    "A primeira parte da resolução deste tipo de problema consiste em encotrar o modelo matemático que descreva o processo. Neste caso, um balanço de massa: <br>\n",
    "${Acúmulo} = {Entrada} - {Saída} \\pm {Gerado/Consumido}$ <br>\n",
    "<br>\n",
    "$\\frac {dm}{dt} = \\dot{m}_{in} - \\dot{m}_{out} $ <br>\n",
    "<br>\n",
    "Sendo $m = \\rho V$, e considerando $\\rho$ constante, podemos reescrever a equação acima como: <br>\n",
    "$\\rho\\frac{dV}{dt}=\\rho_{in} F_{in} - \\rho_{out} F_{out}$ <br>\n",
    "<br>\n",
    "A densidade é considerada constante: <br>\n",
    "$\\frac{dV}{dt}= F_{in} - F_{out}$ <br>\n",
    "<br>\n",
    "Sendo $V = Ah$ e sendo a área da seção transversal do tanque constante (cilindro): <br>\n",
    "\n",
    "$\\frac{dh}{dt} = \\frac{F_{in}-F_{out}}{A}$ <br>\n",
    "<br>\n",
    "Esta é a EDO que iremos integrar no nosso programa."
   ]
  },
  {
   "cell_type": "code",
   "execution_count": null,
   "metadata": {},
   "outputs": [],
   "source": [
    "import numpy as np\n",
    "import matplotlib.pyplot as plt\n",
    "from scipy.integrate import odeint\n",
    "# Definição da função da EDO\n",
    "def tanque(h,t):\n",
    "    k = 2.5\n",
    "    A = 5\n",
    "    Fin = 5\n",
    "    Fout = k*np.sqrt(h)\n",
    "    dhdt = (Fin-Fout)/A\n",
    "    return dhdt\n",
    "\n",
    "h0 = 5 # Condição inicial\n",
    "t = np.linspace(0,20,200) # Tempo de integração\n",
    "h = odeint(tanque,h0,t) # Chamada da integração através da função odeint\n",
    "# Gráfico\n",
    "plt.plot(t,h,color=[0.1, 0.5, 0.5])\n",
    "plt.grid(color='k',linestyle=':')\n",
    "plt.xlabel('Tempo [min]')\n",
    "plt.ylabel('Altura [ft]')\n",
    "# Dados para txt\n",
    "h = np.round(h,2)\n",
    "t = np.round(t,2)\n",
    "f = open(\"dados_tanque.txt\",\"w\")\n",
    "for i in range(np.size(t)):\n",
    "    f.writelines([str(t[i]),'   ',str(h[i]), '\\n'])\n"
   ]
  },
  {
   "cell_type": "markdown",
   "metadata": {},
   "source": [
    "Assim, no programa acima, da mesma maneira que nos exemplos anteriores, iniciamos importando as bibliotecas que iremos utilizar (linhas 1-3) seguido da definição da EDO que desejamos integrar (linhas 5-11). <br>\n",
    "Na linha 13 definimos a condição inicial da altura de fluido no tanque e na linha 14 definimos o tempo de integração $t$ como um vetor que vai de 0 a 20 com 200 pontos entre esses dois números. Ou seja, a sintaxe da função _linspace_ é a seguinte: _np.linspace(inicio, fim, número_de_pontos)_. <br>\n",
    "Na linha 15 chamamos a função _tanque_ que será integrada pela função _odeint_, com a condição inicial $h(0)$ e o tempo de integração $t$. <br>\n",
    "O gráfico é plotado através do código das linhas 17-20 e os dados são gravados no arquivo _dados_tanque.txt_ através do código das linhas 22-26. <br>\n",
    "A criação do arquivo com os dados é feita da seguinte forma: <br>\n",
    "i. Os valores de $h$ e $t$ são arredondados para apenas duas casas decimais após a vírgula (_np.round(variável,número_de_casas_decimais_); <br>\n",
    "ii. O arquivo _dados_tanque.txt_ é criado através do comando _open_: _open(\"nome_arquivo.extensao\", \"atributo\")_. Onde o atributo pode ser \"a\" ou \"w\", neste caso. \"a\" é utilizado para adicionar informações à partir da última linha de um arquivo, enquanto \"w\" é utilizado para sobrescrever o que vier a existir no arquivo escolhido. Experimente trocar \"w\" por \"a\" e veja como arquivo .txt responde. <br>\n",
    "iii. Um loop do tamanho dos vetores que serão escrito no arquivo é criado - neste caso, para _i_ que vai de 0 até o número de elementos em _t_ (linha 25). Com isso, na linha 26, podemos escrever, em casa linha, o valor do tempo e da altura no tempo correspondente. O '\\n' ao final do comando é usado para indicar que a cada vez que _t[i]_ e _h[i]_ forem escritos, passa-se para uma nova linha. Ou seja, '\\n' indica uma nova linha. <br>"
   ]
  },
  {
   "cell_type": "markdown",
   "metadata": {},
   "source": [
    "**Exemplo 4** <br>\n",
    "O módulo de integração do SciPy, _integrate_, ainda comporta diversos outros métodos (https://docs.scipy.org/doc/scipy/reference/integrate.html). <br>\n",
    "Utilizemos agora a função _solve_ivp_, que nos permite escolher entre alguns métodos de integração diferentes, como por exemplo Runge-Kutta de 2a e 3a Ordem, Runge-Kutta de 4a e 5a Ordem, Runge-Kutta implícito (_Radau_), diferenciação para trás (_backward differentiation formulas_, BFD), entre outros. <br>\n",
    "<br>\n",
    "_solve_ivp_ <br>\n",
    "Considere um reator CSTR com uma reação de segunda ordem. Assumiremos que a taxa de reação (por unidade de volume) é proporcional ao quadrado da concentração do componente reativo. Além disso, assumiremos volume e densidade constantes. Assim: <br>\n",
    "$$\\frac{dC}{dt} = \\frac{F}{V} C_i - \\frac{F}{V} C - kC^2$$ <br>\n",
    "Dados: <br>\n",
    "$\\frac{V}{F} = 5 min$ <br>\n",
    "$k = 0.32 \\frac{ft^3}{lbmol.min}$ <br>\n",
    "$C_i = 1.25 \\frac{lbmol}{ft^3}$ <br>\n"
   ]
  },
  {
   "cell_type": "code",
   "execution_count": null,
   "metadata": {},
   "outputs": [],
   "source": [
    "import numpy as np\n",
    "import matplotlib.pyplot as plt\n",
    "from scipy.integrate import solve_ivp\n",
    "def react(t,C):\n",
    "    VF = 5\n",
    "    k = 0.032\n",
    "    Ci = 1.25\n",
    "    dCdt = Ci/VF - C/VF - k*C**2\n",
    "    return dCdt\n",
    "\n",
    "C0 = [1]\n",
    "t0 = 0\n",
    "tf = 45\n",
    "C = solve_ivp(react,[t0,tf],C0,method='RK45')\n",
    "plt.plot(C.t,C.y[0,:])\n",
    "print(C)"
   ]
  },
  {
   "cell_type": "markdown",
   "metadata": {},
   "source": [
    "No exemplo acima, utilizamos a função _solve_ivp_ com o método de Runge-Kutta de 4a e 5a Ordem (https://docs.scipy.org/doc/scipy/reference/generated/scipy.integrate.RK45.html#scipy.integrate.RK45). <br>\n",
    "O código foi iniciado importando as bibliotecas necessárias. Note que desta vez importamos _solve_ivp_ no lugar de _odeint_. <br>\n",
    "A definição da função a ser integrada segue o mesmo modelo das definições utilizadas anteriormente, porém com uma única e importantíssima modificação: a variável independente aparece antes da variável dependente. Assim, o mesmo acontece na chamada da função (linha 14), onde utilizamos um tempo de integração de 0 à 45 com a condição inicial $C(0)$. <br>\n",
    "A sintaxe completa para o uso da função _solve_ivp_ é dada por: <br>\n",
    "_scipy.integrate.solve_ivp(fun, t_span, y0, method='RK45', t_eval=None, dense_output=False, events=None, vectorized=False, args=None, \\**options)_ <br>\n",
    "Perceba que: <br>\n",
    "i. o primeiro argumento (_fun_) é reservado para o nome da função a ser integrada; <br>\n",
    "ii. o segundo argumento, para o tempo de integração; <br>\n",
    "iii. o terceiro argumento é reservado para a condição inicial (neste método, é importante que a condição inicial, ou as condições iniciais se tratarmos de sistemas de EDOs, como veremos na próxima aula, esteja na forma de _array_, e por este motivo foi utilizado C0 = [1] na linha 11); <br>\n",
    "iv. o quarto argumento é o método a ser utilizado (neste caso, utilizamos Runge-Kutta de 4a e 5a Ordem); <br>\n",
    "v. o quinto argumento pode ser utilizado quando deseja-se obter o valor da variável de estado em um ponto específico no tempo (ou na variável independente do problema). <br>\n",
    "Os demais argumentos serão deixados de lado, por enquanto. <br>\n",
    "Os resultados serão todos gravados na variável C, neste caso, conforme linha 14. Assim, utilizamos _C.t_ para acessar o tempo de integração utilizado (o método escolhe os passos de integração) e utilizamos _C.y_ para acessar os valores da variável dependente. <br>\n",
    "Suponha, então, que você deseja saber a concentração do componente após 10 minutos de reação. Para isso, utilizaremos o quinto argumento: <br> "
   ]
  },
  {
   "cell_type": "code",
   "execution_count": null,
   "metadata": {},
   "outputs": [],
   "source": [
    "import numpy as np\n",
    "import matplotlib.pyplot as plt\n",
    "from scipy.integrate import solve_ivp\n",
    "def react(t,C):\n",
    "    VF = 5\n",
    "    k = 0.032\n",
    "    Ci = 1.25\n",
    "    dCdt = Ci/VF - C/VF - k*C**2\n",
    "    return dCdt\n",
    "\n",
    "C0 = [1]\n",
    "t0 = 0\n",
    "tf = 45\n",
    "C = solve_ivp(react,[t0,tf],C0,method='RK45',t_eval=[10])\n",
    "print(\"A concentração do componente no tempo de 10 min é de\", C.y)"
   ]
  },
  {
   "cell_type": "markdown",
   "metadata": {},
   "source": [
    "<br>\n",
    "Essas são algumas das possíveis maneiras de resolver Equações Diferenciais Ordinárias. <br>\n",
    "Na próxima aula, veremos alguns exemplos de resolução de sistemas de EDOs. <br>\n"
   ]
  },
  {
   "cell_type": "markdown",
   "metadata": {},
   "source": [
    "# Exercícios <br>\n",
    "<br>\n",
    "1. Um formato muito comum de EDOs em sistemas de controle é o seguinte: <br>\n",
    "$$\\frac {dy}{dt} = \\frac {-y + Ku}{\\tau}$$ <br>\n",
    "Crie um programa que peça para o usuário inserir os valores dos parâmetros $\\tau$ e $K$. <br>\n",
    "Utilize como condição inicial $y(0)=0$. <br>\n",
    "Resolva o mesmo problema para 3 diferentes tipos de métodos. <br>"
   ]
  },
  {
   "cell_type": "code",
   "execution_count": null,
   "metadata": {},
   "outputs": [],
   "source": [
    "# Insira o código aqui\n"
   ]
  },
  {
   "cell_type": "markdown",
   "metadata": {},
   "source": [
    "2. Integre a função $\\frac{dy}{dt} = sin(2t)$ num intervalor de tempo de 0 a 150. <br>\n",
    "a) Plote um gráfico com os resultados <br>\n",
    "b) Salve um arquivo com os valores encontrados <br>"
   ]
  },
  {
   "cell_type": "code",
   "execution_count": null,
   "metadata": {},
   "outputs": [],
   "source": [
    "# Insira o código aqui\n"
   ]
  },
  {
   "cell_type": "code",
   "execution_count": null,
   "metadata": {},
   "outputs": [],
   "source": []
  }
 ],
 "metadata": {
  "kernelspec": {
   "display_name": "Python 3",
   "language": "python",
   "name": "python3"
  },
  "language_info": {
   "codemirror_mode": {
    "name": "ipython",
    "version": 3
   },
   "file_extension": ".py",
   "mimetype": "text/x-python",
   "name": "python",
   "nbconvert_exporter": "python",
   "pygments_lexer": "ipython3",
   "version": "3.7.6"
  }
 },
 "nbformat": 4,
 "nbformat_minor": 4
}
