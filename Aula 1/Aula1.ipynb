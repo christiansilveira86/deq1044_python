{
 "cells": [
  {
   "cell_type": "markdown",
   "metadata": {},
   "source": [
    "# Início\n",
    "Iniciaremos com o mais básico da programação em computadores para engenharia: fazer cálculos.\n",
    "\n",
    "Porém, antes é preciso notar que **o ambiente do Jupyter Lab** nos permite executar blocos de códigos.\n",
    "Cada bloco pode ser executado separadamente, porém, em alguns momentos, importaremos bibliotecas que podem ser necessárias ao longo da aula.\n",
    "Assim, toda vez que reiniciarmos o kernel (esvaziar as variáveis da memória, para isso basta clicar com o botão direito do mouse e ir em 'Restart kernel') pode ser necessário executar novamente algum outro bloco. Falaremos disso mais adiante.\n",
    "\n",
    "O Python nos permite utilizá-lo, de maneira simples, como uma calculadora, basta digitar o que se quer calcular.\n",
    "Por exemplo:"
   ]
  },
  {
   "cell_type": "code",
   "execution_count": 1,
   "metadata": {},
   "outputs": [
    {
     "data": {
      "text/plain": [
       "4"
      ]
     },
     "execution_count": 1,
     "metadata": {},
     "output_type": "execute_result"
    }
   ],
   "source": [
    "2+2"
   ]
  },
  {
   "cell_type": "markdown",
   "metadata": {},
   "source": [
    "Neste caso, fizemos uma simples operação de soma, mas todas as outras operações podem ser feitas.\n",
    "\n",
    "$+$ Soma  \n",
    "$-$ Subtração  \n",
    "$*$ Multiplicação  \n",
    "$/$ Divisão  \n",
    "$**$ Exponenciação  \n",
    "pow(base,expoente) Outra forma de exponenciação  \n",
    "Abaixo segue o exemplo do uso de cada uma dessas operações.  \n",
    "Neste momento utilizamos o comando print() para mostrar na tela o resultado de cada operação."
   ]
  },
  {
   "cell_type": "code",
   "execution_count": 2,
   "metadata": {},
   "outputs": [
    {
     "name": "stdout",
     "output_type": "stream",
     "text": [
      "4\n",
      "0\n",
      "6\n",
      "1.5\n",
      "9\n",
      "16\n"
     ]
    }
   ],
   "source": [
    "print(2+2)\n",
    "print(2-2)\n",
    "print(3*2)\n",
    "print(3/2)\n",
    "print(3**2)\n",
    "print(pow(4,2))"
   ]
  },
  {
   "cell_type": "markdown",
   "metadata": {},
   "source": [
    "Algumas funções matemáticas, no entanto, não estão prontamente disponíveis no Pyhton, como é o caso das funções:\n",
    "* Exponencial\n",
    "* Logarítmicas\n",
    "* Trigonométricas<br>\n",
    "Assim, se faz necessário a impotação de bibliotecas específicas.  \n",
    "A primeira biblioteca que iremos utilizar é a biblioteca chamada _math_.  <br>\n",
    "A importação é feita sempre utilizando o comando _import_."
   ]
  },
  {
   "cell_type": "code",
   "execution_count": 3,
   "metadata": {},
   "outputs": [
    {
     "data": {
      "text/plain": [
       "3.3201169227365472"
      ]
     },
     "execution_count": 3,
     "metadata": {},
     "output_type": "execute_result"
    }
   ],
   "source": [
    "import math\n",
    "math.exp(1.2)"
   ]
  },
  {
   "cell_type": "markdown",
   "metadata": {},
   "source": [
    "Agora, como já importamos a biblioteca math, podemos continuar as operações normalmente.\n",
    "Abaixo estão exemplos de algumas funções.\n",
    "Note que a função log com apenas um argumento (linha 1) realiza a operação de logaritmo natural, mas a função log com 2 argumentos (linha 2) realiza o logaritmo do valor x na base y (math.log(x,y)).\n",
    "O logaritmo na base 10 pode ser obtido com a função log10.\n"
   ]
  },
  {
   "cell_type": "code",
   "execution_count": 4,
   "metadata": {},
   "outputs": [
    {
     "name": "stdout",
     "output_type": "stream",
     "text": [
      "2.302585092994046\n",
      "3.3219280948873626\n",
      "1.0\n"
     ]
    }
   ],
   "source": [
    "print(math.log(10))\n",
    "print(math.log(10,2))\n",
    "print(math.log10(10))"
   ]
  },
  {
   "cell_type": "markdown",
   "metadata": {},
   "source": [
    "As funções trigonométricas são utilizadas em radianos."
   ]
  },
  {
   "cell_type": "code",
   "execution_count": 5,
   "metadata": {},
   "outputs": [
    {
     "name": "stdout",
     "output_type": "stream",
     "text": [
      "1.0\n",
      "-1.8369701987210297e-16\n"
     ]
    }
   ],
   "source": [
    "print(math.sin(math.pi/2))\n",
    "print(math.cos(3*math.pi/2))"
   ]
  },
  {
   "cell_type": "markdown",
   "metadata": {},
   "source": [
    "Além disso, é possível converter de ângulos para radianos e vice-versa.\n",
    "Por exemplo, vamos converter os valores utilizados anteriormente em radianos para graus e depois de volta para radianos."
   ]
  },
  {
   "cell_type": "code",
   "execution_count": 6,
   "metadata": {},
   "outputs": [
    {
     "name": "stdout",
     "output_type": "stream",
     "text": [
      "90.0\n",
      "270.0\n",
      "1.5707963267948966\n",
      "4.71238898038469\n"
     ]
    }
   ],
   "source": [
    "print(math.degrees(math.pi/2))\n",
    "print(math.degrees(3*math.pi/2))\n",
    "print(math.radians(90))\n",
    "print(math.radians(270))"
   ]
  },
  {
   "cell_type": "markdown",
   "metadata": {},
   "source": [
    "Diversas outras funções estão disponíveis na biblioteca _math_ e podem ser vistas em: <br>\n",
    "    https://docs.python.org/3/library/math.html\n",
    "    \n",
    "\n",
    "Podemos, também, definir valores para parâmetros antes das equações.\n",
    "Suponha, por exemplo, que queremos obter o volume de um gás a 500 atm e 293 K através da equação dos gases ideais e através de van der Waals.\n",
    "Para gases ideais, o fator de compressibilidade é sempre 1, e para van der Waals, temos o fator de compressibilidade como uma função da temperatura e da pressão, conforme a figura.\n",
    "\n",
    "![](img/Fator_z.jpg)\n",
    "\n",
    "Sendo a equação da compressibilidade dada por:\n",
    "$ z=PV/RT $\n"
   ]
  },
  {
   "cell_type": "code",
   "execution_count": 7,
   "metadata": {},
   "outputs": [
    {
     "name": "stdout",
     "output_type": "stream",
     "text": [
      "82.057 293 500\n",
      "48.085402 67.3195628\n",
      "The ideal gas volume is 48.085402 and the van der Waals gas volume is 67.3195628\n"
     ]
    }
   ],
   "source": [
    "P = 500;    # atm\n",
    "T = 293;    # K\n",
    "R = 82.057; # cm^3.atm/K.mol\n",
    "z_ig = 1;\n",
    "z_vdw = 1.4;\n",
    "V_ig = R*T/P;\n",
    "V_vdw = R*T*z_vdw/P;\n",
    "print(R, T, P)\n",
    "print(V_ig, V_vdw)\n",
    "\n",
    "print(\"The ideal gas volume is\", V_ig, \"and the van der Waals gas volume is\", V_vdw)"
   ]
  },
  {
   "cell_type": "markdown",
   "metadata": {},
   "source": [
    "Neste caso, modificamos um pouco o uso da função print(), adicionando argumentos.\n",
    "A cada vírgula, o comando print() lê um novo argumento, com a facilidade de aceitar ambos: strings (entre aspas) e floats.\n",
    "O python possui 7 tipos de dados:\n",
    "* Texto: strings (str)\n",
    "* Numérico: inteiros, reais e complexos (int, float, complex)\n",
    "* Sequência: lista, tupla, extensão (list, tuple, range)\n",
    "* Mapeamento: dicionário (dict)\n",
    "* Assertivo: (set, frozenset)\n",
    "* Booleano: (bool)\n",
    "* Binário: (bytes, bytearray, memoryview)\n",
    "\n",
    "Nós iremos tratar basicamente com os tipos texto, numérico e booleano."
   ]
  },
  {
   "cell_type": "markdown",
   "metadata": {},
   "source": [
    "# Exercícios\n",
    "1. Crie um código para resolver funções de segundo grau utilizando Bhaskara.<br>\n",
    "Os coeficientes a, b, c da equação devem constar no código e as duas raízes calculadas também.\n"
   ]
  },
  {
   "cell_type": "markdown",
   "metadata": {},
   "source": [
    "Insira aqui o seu código e rode:"
   ]
  },
  {
   "cell_type": "code",
   "execution_count": 8,
   "metadata": {},
   "outputs": [],
   "source": [
    "# insira seu código\n"
   ]
  },
  {
   "cell_type": "markdown",
   "metadata": {},
   "source": [
    "2. Com base na figura abaixo, calcule as vazões mássicas 𝑚_2 e 𝑚_4, a fração molar 𝑥_3𝑎 e a fração de recuperação do produto. <br>\n",
    "![](img/exercicio2.jpg)"
   ]
  },
  {
   "cell_type": "code",
   "execution_count": 11,
   "metadata": {},
   "outputs": [],
   "source": [
    "# insira aqui seu código\n"
   ]
  },
  {
   "cell_type": "code",
   "execution_count": null,
   "metadata": {},
   "outputs": [],
   "source": []
  }
 ],
 "metadata": {
  "kernelspec": {
   "display_name": "Python 3",
   "language": "python",
   "name": "python3"
  },
  "language_info": {
   "codemirror_mode": {
    "name": "ipython",
    "version": 3
   },
   "file_extension": ".py",
   "mimetype": "text/x-python",
   "name": "python",
   "nbconvert_exporter": "python",
   "pygments_lexer": "ipython3",
   "version": "3.7.6"
  }
 },
 "nbformat": 4,
 "nbformat_minor": 4
}
